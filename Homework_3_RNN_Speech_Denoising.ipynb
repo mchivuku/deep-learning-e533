{
  "nbformat": 4,
  "nbformat_minor": 0,
  "metadata": {
    "colab": {
      "name": "Homework 3 - RNN-Speech Denoising.ipynb",
      "version": "0.3.2",
      "provenance": [],
      "collapsed_sections": [],
      "include_colab_link": true
    },
    "kernelspec": {
      "name": "python3",
      "display_name": "Python 3"
    },
    "accelerator": "GPU"
  },
  "cells": [
    {
      "cell_type": "markdown",
      "metadata": {
        "id": "view-in-github",
        "colab_type": "text"
      },
      "source": [
        "<a href=\"https://colab.research.google.com/github/mchivuku/deep-learning-e533/blob/master/Homework_3_RNN_Speech_Denoising.ipynb\" target=\"_parent\"><img src=\"https://colab.research.google.com/assets/colab-badge.svg\" alt=\"Open In Colab\"/></a>"
      ]
    },
    {
      "metadata": {
        "id": "qlD4BmoejNLf",
        "colab_type": "code",
        "outputId": "6961082b-3172-481b-8a22-f1c44376cc0f",
        "colab": {
          "base_uri": "https://localhost:8080/",
          "height": 68
        }
      },
      "cell_type": "code",
      "source": [
        "from google.colab import drive\n",
        "drive.mount('/content/drive')\n",
        "\n",
        "%cd /content/drive/My\\ Drive/Masters-DS/Deep\\ Learning\\ -\\ E533/\n",
        "%cd Homework3\n"
      ],
      "execution_count": 10,
      "outputs": [
        {
          "output_type": "stream",
          "text": [
            "Drive already mounted at /content/drive; to attempt to forcibly remount, call drive.mount(\"/content/drive\", force_remount=True).\n",
            "/content/drive/My Drive/Masters-DS/Deep Learning - E533\n",
            "/content/drive/My Drive/Masters-DS/Deep Learning - E533/Homework3\n"
          ],
          "name": "stdout"
        }
      ]
    },
    {
      "metadata": {
        "id": "TY9LEIOq1zYu",
        "colab_type": "text"
      },
      "cell_type": "markdown",
      "source": [
        "## Install Libraries"
      ]
    },
    {
      "metadata": {
        "id": "9KL3m-_u12_-",
        "colab_type": "code",
        "colab": {}
      },
      "cell_type": "code",
      "source": [
        "# Install librosa and other audio libraries\n",
        "\n",
        "%%capture\n",
        "!apt install ffmpeg\n",
        "!pip install tensorpack\n",
        "!pip install pydub\n",
        "!pip install pysoundfile\n",
        "!pip install librosa\n",
        "\n",
        "\n",
        "!pip install livelossplot\n"
      ],
      "execution_count": 0,
      "outputs": []
    },
    {
      "metadata": {
        "id": "GLF-tpdo2CFV",
        "colab_type": "text"
      },
      "cell_type": "markdown",
      "source": [
        "## Import Libraries"
      ]
    },
    {
      "metadata": {
        "id": "p9g2c6Uyknvx",
        "colab_type": "code",
        "outputId": "5ebc0e27-a8a6-484b-f3df-2c8265e98679",
        "colab": {
          "base_uri": "https://localhost:8080/",
          "height": 68
        }
      },
      "cell_type": "code",
      "source": [
        "import torch\n",
        "import torchvision\n",
        "import torch.nn as nn\n",
        "import torch.nn.functional as F\n",
        "import os\n",
        "import numpy as np\n",
        "\n",
        "## Plot libraries\n",
        "import matplotlib.pyplot as plt\n",
        "\n",
        "%matplotlib inline\n",
        "\n",
        "import torch.optim as optim\n",
        "\n",
        "## Plotting library\n",
        "\n",
        "from bokeh.plotting import figure\n",
        "from bokeh.io import show\n",
        "from bokeh.models import LinearAxis, Range1d\n",
        "\n",
        "\n",
        "from livelossplot import PlotLosses\n",
        "\n",
        "\n",
        "print('Torch', torch.__version__, 'CUDA', torch.version.cuda)\n",
        "print('Device:', torch.device('cuda:0'))\n",
        "print(torch.cuda.is_available())\n",
        "\n",
        "is_cuda = torch.cuda.is_available()\n",
        "device = torch.device ( \"cuda:0\" if torch.cuda.is_available () else \"cpu\" )\n",
        "\n",
        "\n",
        "\n"
      ],
      "execution_count": 12,
      "outputs": [
        {
          "output_type": "stream",
          "text": [
            "Torch 1.0.1.post2 CUDA 10.0.130\n",
            "Device: cuda:0\n",
            "True\n"
          ],
          "name": "stdout"
        }
      ]
    },
    {
      "metadata": {
        "id": "Dr2PDlZTekvK",
        "colab_type": "text"
      },
      "cell_type": "markdown",
      "source": [
        "## Helper functions"
      ]
    },
    {
      "metadata": {
        "id": "REJsV5xok96I",
        "colab_type": "code",
        "colab": {}
      },
      "cell_type": "code",
      "source": [
        "import librosa.display\n",
        "import numpy as np\n",
        "import torch.nn\n",
        "from IPython.display import display, Audio\n",
        "from livelossplot import PlotLosses\n",
        "import librosa\n",
        "\n",
        "## Load all the files\n",
        "def convert_to_stft(audio):\n",
        "  S=librosa.stft(audio, n_fft=1024, hop_length=512)\n",
        "  return S\n",
        "\n",
        "'''\n",
        "Load .wav file\n",
        "'''\n",
        "def load_wav(path, sr=None):\n",
        "    s, sr=librosa.load(path, sr=None)\n",
        "    return (s, sr)"
      ],
      "execution_count": 0,
      "outputs": []
    },
    {
      "metadata": {
        "id": "4PRiHRgpenhK",
        "colab_type": "text"
      },
      "cell_type": "markdown",
      "source": [
        "## Load Data"
      ]
    },
    {
      "metadata": {
        "id": "4IHXyb7P2VuW",
        "colab_type": "code",
        "colab": {}
      },
      "cell_type": "code",
      "source": [
        "\"\"\"\n",
        "Load files, perform stft\n",
        "\"\"\"\n",
        "def build_spectogram_inputs(dir, files):\n",
        "  tn = []\n",
        "  ts = []\n",
        "  tx = []\n",
        "  s_audio_list = []\n",
        "  \n",
        "  tn_abs = []\n",
        "  ts_abs = []\n",
        "  tx_abs = []\n",
        "  \n",
        "  cnt = 0\n",
        "  for filename in files:\n",
        "    (audio, sr)  = load_wav(os.path.join(dir,filename))\n",
        "    \n",
        "    \n",
        "    S = convert_to_stft(audio)\n",
        "    S = S.T\n",
        "    ## Third character\n",
        "    s_with = os.path.splitext(filename)[0][-5:]\n",
        "    \n",
        "    \n",
        "    ## startswith n\n",
        "    if s_with.startswith(\"n\"):\n",
        "      tn.append(S)\n",
        "      tn_abs.append(np.abs(S))\n",
        "      \n",
        "    elif s_with.startswith(\"s\"):\n",
        "      ts.append(S)\n",
        "      ts_abs.append(np.abs(S))\n",
        "      s_audio_list.append(audio)\n",
        "      \n",
        "    else:\n",
        "      tx.append(S)\n",
        "      tx_abs.append(np.abs(S))\n",
        "      \n",
        "      \n",
        "  return (s_audio_list, ts, ts_abs, tn, tn_abs, tx, tx_abs)\n",
        "\n",
        "    \n",
        "\"\"\"\n",
        "IBM\n",
        "\"\"\"\n",
        "def IBM_mask(S_seq, N_seq):\n",
        "  M = []\n",
        "  for i in range(len(S_seq)):\n",
        "    S_matrix = S_seq[i]\n",
        "    N_matrix = N_seq[i]\n",
        "    \n",
        "    M_matrix = np.where(S_matrix>N_matrix,1,0)\n",
        "  \n",
        "    M.append(M_matrix)\n",
        "    \n",
        "  return M\n",
        "    "
      ],
      "execution_count": 0,
      "outputs": []
    },
    {
      "metadata": {
        "id": "1Vs7HkbE2bY6",
        "colab_type": "code",
        "outputId": "17286916-50d1-4fe0-eae4-413c433835e2",
        "colab": {
          "base_uri": "https://localhost:8080/",
          "height": 34
        }
      },
      "cell_type": "code",
      "source": [
        "import os\n",
        "train_dir = os.path.join('timit-homework','tr')\n",
        "test_dir = os.path.join(\"timit-homework\",\"te\")\n",
        "val_dir = os.path.join(\"timit-homework\",\"v\")\n",
        "\n",
        "files = [filename for filename in os.listdir(train_dir)]\n",
        "sorted_files = sorted(files, key=lambda x: int(os.path.splitext(x)[0][-4:]))\n",
        "\n",
        "validation_files = [filename for filename in os.listdir(val_dir)]\n",
        "test_files = [filename for filename in os.listdir(test_dir)]\n",
        "\n",
        "sorted_validation = sorted(validation_files, key=lambda x: int(os.path.splitext(x)[0][-4:]))\n",
        "sorted_test = sorted(test_files, key=lambda x: int(os.path.splitext(x)[0][-4:]))\n",
        "\n",
        "print(f\"No of train files:{len(sorted_files)}, validation files:{len(validation_files)}, test files:{len(test_files)}\")\n"
      ],
      "execution_count": 16,
      "outputs": [
        {
          "output_type": "stream",
          "text": [
            "No of train files:3600, validation files:3600, test files:400\n"
          ],
          "name": "stdout"
        }
      ]
    },
    {
      "metadata": {
        "id": "WIF9i9mlRz2K",
        "colab_type": "code",
        "colab": {}
      },
      "cell_type": "code",
      "source": [
        ""
      ],
      "execution_count": 0,
      "outputs": []
    },
    {
      "metadata": {
        "id": "7CFrl_oiRyXK",
        "colab_type": "text"
      },
      "cell_type": "markdown",
      "source": [
        ""
      ]
    },
    {
      "metadata": {
        "id": "25p7XnYM3fix",
        "colab_type": "code",
        "outputId": "21fd1284-8f50-44d4-940d-75ea4f173a60",
        "colab": {
          "base_uri": "https://localhost:8080/",
          "height": 68
        }
      },
      "cell_type": "code",
      "source": [
        "## Load Train\n",
        "(train_audio_list, train_s, trains_abs, train_n, train_n_abs, train_x, train_x_abs) = build_spectogram_inputs(train_dir,sorted_files)\n",
        "print(\"Train completed\")\n",
        "\n",
        "# Load Validation\n",
        "(val_audio_list, val_s, val_s_abs, val_n, val_n_abs, val_x, val_x_abs) = build_spectogram_inputs(val_dir, sorted_validation)\n",
        "\n",
        "print(\"Validation completed \")\n",
        "\n",
        "## Load Test\n",
        "(test_audio_list, test_s, test_s_abs, test_n, test_n_abs, test_x, test_x_abs) = build_spectogram_inputs(test_dir, sorted_test)\n",
        "print(\"Test completed\")\n",
        "\n",
        "\n"
      ],
      "execution_count": 9,
      "outputs": [
        {
          "output_type": "stream",
          "text": [
            "Train completed\n",
            "Validation completed \n",
            "Test completed\n"
          ],
          "name": "stdout"
        }
      ]
    },
    {
      "metadata": {
        "id": "92z3Y6gRK_hK",
        "colab_type": "code",
        "outputId": "89f2acad-fc44-4f87-ddde-8a744a9ce8ce",
        "colab": {
          "base_uri": "https://localhost:8080/",
          "height": 34
        }
      },
      "cell_type": "code",
      "source": [
        ""
      ],
      "execution_count": 17,
      "outputs": [
        {
          "output_type": "execute_result",
          "data": {
            "text/plain": [
              "(1200, (65, 513), (130, 513))"
            ]
          },
          "metadata": {
            "tags": []
          },
          "execution_count": 17
        }
      ]
    },
    {
      "metadata": {
        "id": "GYwrvL7iSMlq",
        "colab_type": "text"
      },
      "cell_type": "markdown",
      "source": [
        ""
      ]
    },
    {
      "metadata": {
        "id": "BDBHgGOuSNRy",
        "colab_type": "code",
        "outputId": "4d80a223-9c61-4284-9df8-320584bc2115",
        "colab": {
          "base_uri": "https://localhost:8080/",
          "height": 34
        }
      },
      "cell_type": "code",
      "source": [
        "len(val_audio_list)"
      ],
      "execution_count": 18,
      "outputs": [
        {
          "output_type": "execute_result",
          "data": {
            "text/plain": [
              "1200"
            ]
          },
          "metadata": {
            "tags": []
          },
          "execution_count": 18
        }
      ]
    },
    {
      "metadata": {
        "id": "bZsX5AVoNmcC",
        "colab_type": "code",
        "outputId": "4ad18b5a-534e-4b5e-bc23-f4badd77c9a6",
        "colab": {
          "base_uri": "https://localhost:8080/",
          "height": 34
        }
      },
      "cell_type": "code",
      "source": [
        "def transpose_x(x):\n",
        "  o = []\n",
        "  for i in range(len(x)):\n",
        "    o.append(x[i].T)\n",
        "    \n",
        "  return o\n",
        "\n",
        "#train_x = transpose_x(train_x)\n",
        "#val_x = transpose_x(val_x)\n",
        "#test_x = transpose_x(test_x)\n",
        "#train_x_abs = transpose_x(train_x_abs)\n",
        "#val_x_abs = transpose_x(val_x_abs)\n",
        "train_x_abs[0].shape\n"
      ],
      "execution_count": 0,
      "outputs": [
        {
          "output_type": "execute_result",
          "data": {
            "text/plain": [
              "(65, 513)"
            ]
          },
          "metadata": {
            "tags": []
          },
          "execution_count": 14
        }
      ]
    },
    {
      "metadata": {
        "id": "9DGBONroE7XS",
        "colab_type": "code",
        "colab": {}
      },
      "cell_type": "code",
      "source": [
        "## Truncate train_x, valu_x\n",
        "seq_len = 39\n",
        "def truncate(x):\n",
        "  shapes = []\n",
        "  for i in range(len(x)):\n",
        "    shapes.append(x[i].shape[0])\n",
        "    \n",
        "  min_t = seq_len\n",
        "  \n",
        "  o = []\n",
        "  for i in range(len(x)):\n",
        "    v = x[i]\n",
        "    o.append(v[:min_t,])\n",
        "    \n",
        "  return o\n"
      ],
      "execution_count": 0,
      "outputs": []
    },
    {
      "metadata": {
        "id": "z1F8XzollrqL",
        "colab_type": "text"
      },
      "cell_type": "markdown",
      "source": [
        "### Build M matrix - train, validation and test"
      ]
    },
    {
      "metadata": {
        "id": "4AAjlz3yHHsk",
        "colab_type": "code",
        "colab": {}
      },
      "cell_type": "code",
      "source": [
        "M_train = IBM_mask(trains_abs,train_n_abs)\n",
        "M_val = IBM_mask(val_s_abs,val_n_abs)\n"
      ],
      "execution_count": 0,
      "outputs": []
    },
    {
      "metadata": {
        "id": "3DEMceIDOhla",
        "colab_type": "code",
        "outputId": "ef876795-de09-45de-a25b-fae66f5d3e25",
        "colab": {
          "base_uri": "https://localhost:8080/",
          "height": 51
        }
      },
      "cell_type": "code",
      "source": [
        "print(f\"len of mask, {len(M_train),len(M_val)}\")\n",
        "train_x[0].shape, M_train[0].shape,train_x_abs[9].shape\n"
      ],
      "execution_count": 0,
      "outputs": [
        {
          "output_type": "stream",
          "text": [
            "len of mask, (1200, 1200)\n"
          ],
          "name": "stdout"
        },
        {
          "output_type": "execute_result",
          "data": {
            "text/plain": [
              "((65, 513), (65, 513), (65, 513))"
            ]
          },
          "metadata": {
            "tags": []
          },
          "execution_count": 17
        }
      ]
    },
    {
      "metadata": {
        "id": "kboL3e-LmNeU",
        "colab_type": "text"
      },
      "cell_type": "markdown",
      "source": [
        "### Function to perform inverse ISFT and compute SNR"
      ]
    },
    {
      "metadata": {
        "id": "JSJUrAYmOstn",
        "colab_type": "code",
        "colab": {}
      },
      "cell_type": "code",
      "source": [
        "import math\n",
        "def inverse_stft_snr(M_predicted, X, s, i):\n",
        "    M_predicted = M_predicted.T\n",
        "    s_hat = M_predicted * X[:,:M_predicted.shape[1]]\n",
        "   \n",
        "    s_hat = librosa.istft(s_hat, win_length = 1024, hop_length = 512)\n",
        "    \n",
        "    nlen = min(len(s), len(s_hat))\n",
        "    SNR = 10*math.log10((np.sum(s[:nlen]**2))/(np.sum((s[:nlen] - s_hat[:nlen])**2)))\n",
        "    #print(\"SNR: {:.2f}\".format(SNR))\n",
        "    return SNR"
      ],
      "execution_count": 0,
      "outputs": []
    },
    {
      "metadata": {
        "id": "bPtxvW6tQ97C",
        "colab_type": "text"
      },
      "cell_type": "markdown",
      "source": [
        "## Running Average Class - Compute Average loss or accuracy over epoch"
      ]
    },
    {
      "metadata": {
        "id": "qArDG1k-Q8_j",
        "colab_type": "code",
        "colab": {}
      },
      "cell_type": "code",
      "source": [
        "class RunningAverage ():\n",
        "    \"\"\"A simple class that maintains the running average of a quantity\n",
        "    Example:\n",
        "    ```\n",
        "    loss_avg = RunningAverage()\n",
        "    loss_avg.update(2)\n",
        "    loss_avg.update(4)\n",
        "    loss_avg() = 3\n",
        "    ```\n",
        "    \"\"\"\n",
        "\n",
        "    def __init__( self ):\n",
        "        self.steps = 0\n",
        "        self.total = 0\n",
        "\n",
        "    def update( self, val ):\n",
        "        self.total += val\n",
        "        self.steps += 1\n",
        "\n",
        "    def __call__( self ):\n",
        "        return self.total / float ( self.steps )"
      ],
      "execution_count": 0,
      "outputs": []
    },
    {
      "metadata": {
        "id": "7DVnW7S7Hgm-",
        "colab_type": "text"
      },
      "cell_type": "markdown",
      "source": [
        "## Build RNN Model"
      ]
    },
    {
      "metadata": {
        "id": "PsVhaKaoqrAY",
        "colab_type": "code",
        "colab": {}
      },
      "cell_type": "code",
      "source": [
        "# Recurrent neural network (many-to-many)\n",
        "class SimpleRNN(nn.Module):\n",
        "  def __init__(self, input_dimensions = 513,hidden_dimensions = 128, num_layers = 2, num_classes = 513, \n",
        "               dropout=0.5, batch_first = True, bidirectional = False, seq_len = 39):\n",
        "    super(SimpleRNN, self).__init__()\n",
        "    self.input_dim = input_dimensions\n",
        "    self.hidden_dim = hidden_dimensions\n",
        "    self.num_classes = num_classes\n",
        "    \n",
        "    self.num_layers = 2\n",
        "    self.dropout = dropout\n",
        "    \n",
        "    self.batch_first = True\n",
        "    self.bidirectional = bidirectional\n",
        "    \n",
        "    self.seq_len = seq_len\n",
        "    \n",
        "    ## GRU Layer\n",
        "    self.gru  = nn.GRU(input_size = self.input_dim, hidden_size = self.hidden_dim,num_layers =  self.num_layers, batch_first = True,\n",
        "                      dropout = self.dropout, bidirectional = self.bidirectional)\n",
        "    \n",
        "    ## fully connected layer\n",
        "    self.fc = nn.Linear(in_features = self.hidden_dim, out_features = self.num_classes)\n",
        "    \n",
        "  \"\"\"\n",
        "  Forward propagate\n",
        "  \"\"\"\n",
        "  def forward(self,X):\n",
        "    assert len(X.size()) == 3 ## Input dimensions must be of length 3\n",
        "    \n",
        "    batch_index = 0 if self.batch_first else 1\n",
        "    num_direction = 2 if self.bidirectional else 1\n",
        "    \n",
        "    ## hidden state in first sequence of the GRU\n",
        "    h_0 = Variable(torch.zeros([self.num_layers, 10, self.hidden_dim]))\n",
        "\n",
        "    ## next hidden state\n",
        "    output_gru, h_n = self.gru(X,h_0)\n",
        "    \n",
        "    ## Linear states opereates on the last dimension of its input\n",
        "    # i.e. for each size [i,j,:] for gru output it produces a a vector of size num classes\n",
        "    \n",
        "    ## # fc_output will be batch_size*seq_len*num_classes\n",
        "    out = self.fc(output_gru)\n",
        "    return torch.sigmoid(out)\n",
        "    \n",
        "    \n",
        "model = SimpleRNN()\n"
      ],
      "execution_count": 0,
      "outputs": []
    },
    {
      "metadata": {
        "id": "0VZiSar7n6FK",
        "colab_type": "text"
      },
      "cell_type": "markdown",
      "source": [
        "## Training the Network"
      ]
    },
    {
      "metadata": {
        "id": "zVGQ_shfHcVD",
        "colab_type": "code",
        "outputId": "0fb19aa1-6402-4047-c807-8bc74ccd89fa",
        "colab": {
          "base_uri": "https://localhost:8080/",
          "height": 374
        }
      },
      "cell_type": "code",
      "source": [
        "import torch\n",
        "import torch.nn as nn\n",
        "from torch.autograd import Variable\n",
        "\n",
        "\n",
        "X_abs = (train_x_abs)\n",
        "M = (M_train)\n",
        "optimizer = torch.optim.Adam(model.parameters(), lr=1e-3)\n",
        "loss_func = nn.BCELoss()\n",
        "\n",
        "\n",
        "## Training\n",
        "num_epochs = 20\n",
        "mini_batchsize = 10\n",
        "train_losses = []\n",
        "val_snr_values = []\n",
        "input_size  = 513\n",
        "for epoch in range(num_epochs):\n",
        "    \n",
        "    epoch_loss = RunningAverage()\n",
        "    ## Model train\n",
        "    model.train()\n",
        "    \n",
        "    # shuffle inputs\n",
        "    train_indices = np.arange(0,1200,mini_batchsize)\n",
        "    np.random.shuffle(train_indices)\n",
        "    \n",
        "    for i in range(len(train_indices)):\n",
        "      \n",
        "      ## inputs\n",
        "      start = int(train_indices[i])\n",
        "      \n",
        "      train_inp = np.array(X_abs[start:start+mini_batchsize])\n",
        "      train_out = np.array((M[start:start+mini_batchsize]))\n",
        "      train_inp = np.array(truncate(train_inp))\n",
        "      train_out = np.array(truncate(train_out))\n",
        "      \n",
        "      \n",
        "      train_inp = torch.from_numpy(train_inp).float()\n",
        "      train_out = torch.from_numpy(train_out).float()\n",
        "      # Forward pass\n",
        "      pred = model(train_inp)\n",
        "     \n",
        "      # Backward and optimize\n",
        "      optimizer.zero_grad()\n",
        "      loss = loss_func(pred, train_out)\n",
        "      loss.backward()\n",
        "      optimizer.step()\n",
        "      \n",
        "      \n",
        "      if (i+1) % 100 == 0:\n",
        "            print ('Epoch [{}/{}], Step [{}/{}], Loss: {:.4f}' \n",
        "                   .format(epoch+1, num_epochs, i+1, len(train_indices), loss.item()))\n",
        "          \n",
        "      epoch_loss.update(loss.item())\n",
        "    train_losses.append(epoch_loss())\n",
        "    \n",
        "    ## Validation\n",
        "    model.eval()\n",
        "    snr_values = []\n",
        "    vi = 0\n",
        "    while vi+mini_batchsize<len(val_x_abs):\n",
        "      val_input = np.array(val_x_abs[vi:vi+mini_batchsize])\n",
        "      val_output = np.zeros((mini_batchsize, val_x_abs[i].shape[0], val_x_abs[i].shape[1]))\n",
        "      val_input = np.array(truncate(val_input))\n",
        "      val_output = np.array(truncate(val_output))\n",
        "      \n",
        "      \n",
        "      val_input, val_output = Variable( torch.from_numpy(val_input)), Variable(torch.from_numpy(val_output))\n",
        "      pred = model(val_input)\n",
        "      \n",
        "      snr_values.append(inverse_stft_snr(pred[0,:,:].detach().cpu().numpy(),val_x[vi].T, val_audio_list[vi],vi))\n",
        "      vi+=1\n",
        "      \n",
        "    val_snr_values.append(np.mean(snr_values))\n",
        "    \n",
        "    if np.mean(snr_values)>=10:\n",
        "      break\n",
        "      \n",
        "print(\"MEAN SNR\",np.mean(snr_values))"
      ],
      "execution_count": 84,
      "outputs": [
        {
          "output_type": "stream",
          "text": [
            "Epoch [1/20], Step [100/120], Loss: 0.5487\n",
            "Epoch [2/20], Step [100/120], Loss: 0.5018\n",
            "Epoch [3/20], Step [100/120], Loss: 0.5173\n",
            "Epoch [4/20], Step [100/120], Loss: 0.4773\n",
            "Epoch [5/20], Step [100/120], Loss: 0.5269\n",
            "Epoch [6/20], Step [100/120], Loss: 0.4638\n",
            "Epoch [7/20], Step [100/120], Loss: 0.5248\n",
            "Epoch [8/20], Step [100/120], Loss: 0.4914\n",
            "Epoch [9/20], Step [100/120], Loss: 0.4438\n",
            "Epoch [10/20], Step [100/120], Loss: 0.4272\n",
            "Epoch [11/20], Step [100/120], Loss: 0.4115\n",
            "Epoch [12/20], Step [100/120], Loss: 0.4510\n",
            "Epoch [13/20], Step [100/120], Loss: 0.4489\n",
            "Epoch [14/20], Step [100/120], Loss: 0.4207\n",
            "Epoch [15/20], Step [100/120], Loss: 0.4001\n",
            "Epoch [16/20], Step [100/120], Loss: 0.4207\n",
            "Epoch [17/20], Step [100/120], Loss: 0.4568\n",
            "Epoch [18/20], Step [100/120], Loss: 0.3947\n",
            "Epoch [19/20], Step [100/120], Loss: 0.3959\n",
            "Epoch [20/20], Step [100/120], Loss: 0.4078\n",
            "MEAN SNR 9.485835280758069\n"
          ],
          "name": "stdout"
        }
      ]
    },
    {
      "metadata": {
        "id": "ts6xhGi1T8iB",
        "colab_type": "code",
        "outputId": "2af62d28-e264-4755-8e91-46eacf9497d4",
        "colab": {
          "base_uri": "https://localhost:8080/",
          "height": 297
        }
      },
      "cell_type": "code",
      "source": [
        "plt.plot(np.arange(epoch+1),train_losses)\n",
        "plt.plot(np.arange(epoch+1),val_snr_values)\n",
        "plt.title(\"Loss\")\n",
        "plt.legend([\"train loss\",\"mean SNR values on validation\"])\n",
        "plt.show()\n",
        "\n",
        "print(\"MEAN SNR\",np.mean(snr_values))\n"
      ],
      "execution_count": 85,
      "outputs": [
        {
          "output_type": "display_data",
          "data": {
            "image/png": "[encoded data removed]",
            "text/plain": [
              "<Figure size 432x288 with 1 Axes>"
            ]
          },
          "metadata": {
            "tags": []
          }
        },
        {
          "output_type": "stream",
          "text": [
            "MEAN SNR 9.485835280758069\n"
          ],
          "name": "stdout"
        }
      ]
    },
    {
      "metadata": {
        "id": "aBX3wNe1L04T",
        "colab_type": "code",
        "colab": {}
      },
      "cell_type": "code",
      "source": [
        "\n",
        "def save_recovered_source(M_predicted,x,i):\n",
        "    M_predicted = M_predicted.T\n",
        "    s_hat = M_predicted * x[:,:M_predicted.shape[1]]\n",
        "    \n",
        "    s_hat = librosa.istft(s_hat, win_length = 1024, hop_length = 512)\n",
        "    sr = 16000\n",
        "    librosa.output.write_wav(f'recovered/test_recovered_{i}s.wav', s_hat, sr)\n",
        "    \n",
        "model.eval()\n",
        "with torch.no_grad():\n",
        "  index = 0\n",
        "  while i+mini_batchsize<len(test_x_abs):\n",
        "    test_input = np.array(test_x_abs[i:i+mini_batchsize])\n",
        "    test_input = np.array(truncate(test_input))\n",
        "    \n",
        "    input = Variable(torch.from_numpy(test_input))\n",
        "    \n",
        "    pred = model(input)\n",
        "    \n",
        "    ## reconstructed test signal\n",
        "    save_recovered_source(pred[0,:,:].detach().cpu().numpy(),test_x[i].T,i)\n",
        "    i+=1\n",
        "      \n",
        "    "
      ],
      "execution_count": 0,
      "outputs": []
    },
    {
      "metadata": {
        "id": "zO08YCE7R2lK",
        "colab_type": "code",
        "colab": {}
      },
      "cell_type": "code",
      "source": [
        ""
      ],
      "execution_count": 0,
      "outputs": []
    },
    {
      "metadata": {
        "id": "ZFAjI_PAMBmj",
        "colab_type": "code",
        "outputId": "39631283-c264-46c2-c132-ec1e5ed6ffbb",
        "colab": {
          "base_uri": "https://localhost:8080/",
          "height": 34
        }
      },
      "cell_type": "code",
      "source": [
        "print(len(test_x_abs))"
      ],
      "execution_count": 0,
      "outputs": [
        {
          "output_type": "stream",
          "text": [
            "400\n"
          ],
          "name": "stdout"
        }
      ]
    },
    {
      "metadata": {
        "id": "ImmlZK2xXhpa",
        "colab_type": "code",
        "outputId": "8fd2ab28-2cc6-4b7e-f35f-fc627ddf70ba",
        "colab": {
          "base_uri": "https://localhost:8080/",
          "height": 34
        }
      },
      "cell_type": "code",
      "source": [
        ""
      ],
      "execution_count": 0,
      "outputs": [
        {
          "output_type": "stream",
          "text": [
            "39\n"
          ],
          "name": "stdout"
        }
      ]
    },
    {
      "metadata": {
        "id": "NRAbR2YLDnBu",
        "colab_type": "code",
        "colab": {}
      },
      "cell_type": "code",
      "source": [
        ""
      ],
      "execution_count": 0,
      "outputs": []
    }
  ]
}