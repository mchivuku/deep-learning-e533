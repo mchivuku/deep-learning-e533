{
  "nbformat": 4,
  "nbformat_minor": 0,
  "metadata": {
    "colab": {
      "name": "Homework 3 - Network Compression.ipynb",
      "version": "0.3.2",
      "provenance": [],
      "collapsed_sections": [],
      "include_colab_link": true
    },
    "kernelspec": {
      "name": "python3",
      "display_name": "Python 3"
    },
    "accelerator": "GPU"
  },
  "cells": [
    {
      "cell_type": "markdown",
      "metadata": {
        "id": "view-in-github",
        "colab_type": "text"
      },
      "source": [
        "<a href=\"https://colab.research.google.com/github/mchivuku/deep-learning-e533/blob/master/Homework_3_Network_Compression.ipynb\" target=\"_parent\"><img src=\"https://colab.research.google.com/assets/colab-badge.svg\" alt=\"Open In Colab\"/></a>"
      ]
    },
    {
      "metadata": {
        "id": "N08guwSyF-dY",
        "colab_type": "text"
      },
      "cell_type": "markdown",
      "source": [
        "# Assignment 3 - Network Compression Using SVD "
      ]
    },
    {
      "metadata": {
        "id": "Ctiszy0fEu8a",
        "colab_type": "code",
        "colab": {}
      },
      "cell_type": "code",
      "source": [
        "%%capture\n",
        "!pip install tqdm six\n",
        "\n",
        "\n",
        "!pip install bokeh\n",
        "!pip install tensorboard\n",
        "!pip install livelossplot\n",
        "\n",
        "!pip install tensorboard\n",
        "\n"
      ],
      "execution_count": 0,
      "outputs": []
    },
    {
      "metadata": {
        "id": "6FObBczGF6i4",
        "colab_type": "text"
      },
      "cell_type": "markdown",
      "source": [
        "## Connect to Google Drive"
      ]
    },
    {
      "metadata": {
        "id": "cW0uurtqF2kg",
        "colab_type": "code",
        "outputId": "ac79c431-ce46-46d5-e395-bc8b8dab1095",
        "colab": {
          "base_uri": "https://localhost:8080/",
          "height": 122
        }
      },
      "cell_type": "code",
      "source": [
        "from google.colab import drive\n",
        "\n",
        "drive.mount(\"/content/drive\")\n",
        "\n",
        "\n"
      ],
      "execution_count": 3,
      "outputs": [
        {
          "output_type": "stream",
          "text": [
            "Go to this URL in a browser: https://accounts.google.com/o/oauth2/auth?client_id=947318989803-6bn6qk8qdgf4n4g3pfee6491hc0brc4i.apps.googleusercontent.com&redirect_uri=urn%3Aietf%3Awg%3Aoauth%3A2.0%3Aoob&scope=email%20https%3A%2F%2Fwww.googleapis.com%2Fauth%2Fdocs.test%20https%3A%2F%2Fwww.googleapis.com%2Fauth%2Fdrive%20https%3A%2F%2Fwww.googleapis.com%2Fauth%2Fdrive.photos.readonly%20https%3A%2F%2Fwww.googleapis.com%2Fauth%2Fpeopleapi.readonly&response_type=code\n",
            "\n",
            "Enter your authorization code:\n",
            "··········\n",
            "Mounted at /content/drive\n"
          ],
          "name": "stdout"
        }
      ]
    },
    {
      "metadata": {
        "id": "pcl8N6T_GGfZ",
        "colab_type": "code",
        "outputId": "45a0ef5c-69e8-4160-bc33-07d6118234b6",
        "colab": {
          "base_uri": "https://localhost:8080/",
          "height": 34
        }
      },
      "cell_type": "code",
      "source": [
        "%cd /content/drive/My\\ Drive/Masters-DS/Deep\\ Learning\\ -\\ E533/Homework3\n",
        "\n"
      ],
      "execution_count": 4,
      "outputs": [
        {
          "output_type": "stream",
          "text": [
            "/content/drive/My Drive/Masters-DS/Deep Learning - E533/Homework3\n"
          ],
          "name": "stdout"
        }
      ]
    },
    {
      "metadata": {
        "id": "bNJFvRDZGxwV",
        "colab_type": "code",
        "colab": {}
      },
      "cell_type": "code",
      "source": [
        "#content/drive/My Drive/Masters-DS/Deep Learning - E533/MNIST\n"
      ],
      "execution_count": 0,
      "outputs": []
    },
    {
      "metadata": {
        "id": "Iy1SOwdPHVQF",
        "colab_type": "text"
      },
      "cell_type": "markdown",
      "source": [
        "## Import Libraries"
      ]
    },
    {
      "metadata": {
        "id": "Q4EAKe4EHXC1",
        "colab_type": "code",
        "outputId": "70a6ef5e-08b9-4a0e-ba2e-8483b59af055",
        "colab": {
          "base_uri": "https://localhost:8080/",
          "height": 68
        }
      },
      "cell_type": "code",
      "source": [
        "from glob import glob\n",
        "import os\n",
        "import numpy as np\n",
        "import matplotlib.pyplot as plt\n",
        "import shutil\n",
        "from torchvision import transforms\n",
        "from torchvision import models\n",
        "import torchvision\n",
        "import torch\n",
        "from torch.autograd import Variable\n",
        "import torch.nn as nn\n",
        "from torch.optim import lr_scheduler\n",
        "from torch import optim\n",
        "from torchvision.datasets import ImageFolder\n",
        "from torchvision.utils import make_grid\n",
        "import time\n",
        "from torchvision import datasets,transforms\n",
        "import torch.nn.functional as F\n",
        "import torch.optim as optim\n",
        "\n",
        "\n",
        "import os\n",
        "\n",
        "## Plotting library\n",
        "\n",
        "from bokeh.plotting import figure\n",
        "from bokeh.io import show\n",
        "from bokeh.models import LinearAxis, Range1d\n",
        "from livelossplot import PlotLosses\n",
        "\n",
        "\n",
        "plt.style.use('ggplot')\n",
        "\n",
        "print('Torch', torch.__version__, 'CUDA', torch.version.cuda)\n",
        "print('Device:', torch.device('cuda:0'))\n",
        "print(torch.cuda.is_available())\n",
        "\n",
        "is_cuda = torch.cuda.is_available()\n",
        "device = torch.device ( \"cuda:0\" if torch.cuda.is_available () else \"cpu\" )"
      ],
      "execution_count": 5,
      "outputs": [
        {
          "output_type": "stream",
          "text": [
            "Torch 1.0.1.post2 CUDA 10.0.130\n",
            "Device: cuda:0\n",
            "True\n"
          ],
          "name": "stdout"
        }
      ]
    },
    {
      "metadata": {
        "id": "mA-aNbTmH27E",
        "colab_type": "text"
      },
      "cell_type": "markdown",
      "source": [
        "## Helpers functions"
      ]
    },
    {
      "metadata": {
        "id": "zhB6jyw1Hhtc",
        "colab_type": "code",
        "outputId": "b850a857-a336-4146-bf8b-e47de9119d58",
        "colab": {
          "base_uri": "https://localhost:8080/",
          "height": 34
        }
      },
      "cell_type": "code",
      "source": [
        "## Show image\n",
        "def imshow(img,title=None):\n",
        "  \"\"\"Imshow for Tensor.\"\"\"\n",
        "  img = img.numpy().transpose((1,2,0))\n",
        "  mean = np.array([0.485, 0.456, 0.406])\n",
        "  std = np.array([0.229, 0.224, 0.225])\n",
        "  img = std * img + mean # normalize\n",
        "  img = np.clip(img, 0, 1) # clip image\n",
        "  plt.figure(figsize=(16,4))\n",
        "  plt.axis('off')\n",
        "  plt.imshow(img)\n",
        "  \n",
        "  if title is not None:\n",
        "    plt.title(title)         \n",
        "  \n",
        "def plot_grid(inputs, classes):\n",
        "  # Make a grid from batch \n",
        "  out = torchvision.utils.make_grid(inputs,10,10)\n",
        "  imshow(out, title=\"\")\n",
        "  print([class_names[x] for x in classes])\n",
        "  \n",
        "  \n",
        "  \n",
        "def plot_loss(y, title):\n",
        "  plt.figure()\n",
        "  plt.plot(y)\n",
        "  plt.title(title)\n",
        "  plt.xlabel('epochs')\n",
        "  plt.ylabel('Loss')\n",
        "  \n",
        "def plot_accuracy(y, title):\n",
        "  plt.figure()\n",
        "  plt.plot(y)\n",
        "  plt.title(title)\n",
        "  plt.xlabel('epochs')\n",
        "  plt.ylabel('accuracy')\n",
        "  \n",
        "  \n",
        "%cd /content/drive/My\\ Drive/Masters-DS/Deep\\ Learning\\ -\\ E533/Homework3"
      ],
      "execution_count": 6,
      "outputs": [
        {
          "output_type": "stream",
          "text": [
            "/content/drive/My Drive/Masters-DS/Deep Learning - E533/Homework3\n"
          ],
          "name": "stdout"
        }
      ]
    },
    {
      "metadata": {
        "id": "wjLdHYDuH9Z6",
        "colab_type": "code",
        "colab": {}
      },
      "cell_type": "code",
      "source": [
        "\n",
        "path=\"\"\n",
        "\n",
        "transformation = transforms.Compose([transforms.ToTensor(),transforms.Normalize((0.1307,), (0.3081,))])\n",
        "train_dataset = datasets.MNIST(os.path.join(path,\"MNIST/data\"),train=True,transform=transformation,download=True)\n",
        "test_dataset = datasets.MNIST(os.path.join(path,\"MNIST/data\"),train=False,transform=transformation,download=True)\n",
        "train_loader = torch.utils.data.DataLoader(train_dataset,batch_size=128,shuffle=True)\n",
        "test_loader = torch.utils.data.DataLoader(test_dataset,batch_size=128,shuffle=True)\n"
      ],
      "execution_count": 0,
      "outputs": []
    },
    {
      "metadata": {
        "id": "ZMwqchB3MI0a",
        "colab_type": "text"
      },
      "cell_type": "markdown",
      "source": [
        "## Train a fully -connected net for MNIST classification. It should be a with 5 hidden layers each of which is with 1024 hidden units. Feel free to use what ever techniques learnt in clas. "
      ]
    },
    {
      "metadata": {
        "id": "Bs7-HtwWIPFJ",
        "colab_type": "code",
        "outputId": "6c06c3d6-ea6a-47ab-c681-23f7a92005c2",
        "colab": {
          "base_uri": "https://localhost:8080/",
          "height": 306
        }
      },
      "cell_type": "code",
      "source": [
        "class_names = ['0 - zero', '1 - one', '2 - two', '3 - three', '4 - four',\n",
        "               '5 - five', '6 - six', '7 - seven', '8 - eight', '9 - nine']\n",
        "inputs, classes = next(iter(train_loader))\n",
        "plot_grid(inputs, classes)"
      ],
      "execution_count": 8,
      "outputs": [
        {
          "output_type": "stream",
          "text": [
            "['5 - five', '2 - two', '8 - eight', '1 - one', '7 - seven', '5 - five', '9 - nine', '0 - zero', '9 - nine', '0 - zero', '7 - seven', '6 - six', '4 - four', '1 - one', '2 - two', '5 - five', '5 - five', '8 - eight', '9 - nine', '1 - one', '4 - four', '2 - two', '1 - one', '1 - one', '7 - seven', '0 - zero', '7 - seven', '8 - eight', '7 - seven', '0 - zero', '7 - seven', '8 - eight', '6 - six', '4 - four', '5 - five', '3 - three', '7 - seven', '1 - one', '1 - one', '2 - two', '7 - seven', '4 - four', '6 - six', '7 - seven', '6 - six', '0 - zero', '8 - eight', '8 - eight', '9 - nine', '8 - eight', '7 - seven', '1 - one', '5 - five', '0 - zero', '8 - eight', '3 - three', '0 - zero', '1 - one', '8 - eight', '3 - three', '6 - six', '5 - five', '1 - one', '8 - eight', '4 - four', '3 - three', '1 - one', '2 - two', '5 - five', '2 - two', '6 - six', '1 - one', '0 - zero', '0 - zero', '4 - four', '3 - three', '9 - nine', '1 - one', '4 - four', '5 - five', '3 - three', '8 - eight', '6 - six', '4 - four', '5 - five', '1 - one', '5 - five', '2 - two', '5 - five', '7 - seven', '9 - nine', '3 - three', '7 - seven', '0 - zero', '8 - eight', '1 - one', '5 - five', '2 - two', '7 - seven', '7 - seven', '4 - four', '2 - two', '3 - three', '3 - three', '0 - zero', '4 - four', '7 - seven', '1 - one', '9 - nine', '7 - seven', '4 - four', '1 - one', '9 - nine', '3 - three', '6 - six', '5 - five', '6 - six', '6 - six', '5 - five', '6 - six', '5 - five', '2 - two', '6 - six', '3 - three', '3 - three', '1 - one', '4 - four', '1 - one']\n"
          ],
          "name": "stdout"
        },
        {
          "output_type": "display_data",
          "data": {
            "image/png": "[encoded data removed]",
            "text/plain": [
              "<Figure size 1152x288 with 1 Axes>"
            ]
          },
          "metadata": {
            "tags": []
          }
        }
      ]
    },
    {
      "metadata": {
        "id": "3FhpODHfMdhC",
        "colab_type": "text"
      },
      "cell_type": "markdown",
      "source": [
        "## Tensor Board Utilities"
      ]
    },
    {
      "metadata": {
        "id": "Efjt2JarMWFw",
        "colab_type": "code",
        "colab": {}
      },
      "cell_type": "code",
      "source": [
        "import tensorflow as tf\n",
        "import numpy as np\n",
        "import scipy.misc \n",
        "from PIL import Image \n",
        "try:\n",
        "    from StringIO import StringIO  # Python 2.7\n",
        "except ImportError:\n",
        "    from io import BytesIO         # Python 3.x\n",
        "\n",
        "## Import tensor flow library\n",
        "class TensorBoardLogger(object):\n",
        "  \n",
        "  \"\"\"\n",
        "  Initialize the summary writer\n",
        "  \"\"\"\n",
        "  def __init__(self, log_dir):\n",
        "    \"create summary writer\"\n",
        "    self.writer = tf.summary.FileWriter(log_dir)\n",
        "  \n",
        "  \"\"\"\n",
        "  Add scalar\n",
        "  \"\"\"\n",
        "  def scalar_summary(self, tag, value, step):\n",
        "    summary = tf.Summary(value=[tf.Summary.Value(tag=tag, simple_value=value)])\n",
        "    self.writer.add_summary(summary,step)\n",
        "    \n",
        "  \"\"\"\n",
        "  Add images\n",
        "  \"\"\"\n",
        "  def image_summary(self, tag, images, step):\n",
        "    \"\"\"Log a list of images.\"\"\"\n",
        "\n",
        "    img_summaries = []\n",
        "    for i, img in enumerate(images):\n",
        "        s = BytesIO()\n",
        "        \n",
        "        new_p = Image.fromarray(img)\n",
        "        if new_p.mode != 'L':\n",
        "          new_p = new_p.convert('L')\n",
        "    \n",
        "        new_p.save(s, format=\"png\")\n",
        "\n",
        "        # Create an Image object\n",
        "        img_sum = tf.Summary.Image(encoded_image_string=s.getvalue(),\n",
        "                                   height=img.shape[0],\n",
        "                                   width=img.shape[1])\n",
        "        # Create a Summary value\n",
        "        img_summaries.append(tf.Summary.Value(tag='%s/%d' % (tag, i), image=img_sum))\n",
        "\n",
        "    # Create and write Summary\n",
        "    summary = tf.Summary(value=img_summaries)\n",
        "    self.writer.add_summary(summary, step)\n",
        "        \n",
        "  def histo_summary(self, tag, values, step, bins=1000):\n",
        "      \"\"\"Log a histogram of the tensor of values.\"\"\"\n",
        "\n",
        "      # Create a histogram using numpy\n",
        "      counts, bin_edges = np.histogram(values, bins=bins)\n",
        "\n",
        "      # Fill the fields of the histogram proto\n",
        "      hist = tf.HistogramProto()\n",
        "      hist.min = float(np.min(values))\n",
        "      hist.max = float(np.max(values))\n",
        "      hist.num = int(np.prod(values.shape))\n",
        "      hist.sum = float(np.sum(values))\n",
        "      hist.sum_squares = float(np.sum(values**2))\n",
        "\n",
        "      # Drop the start of the first bin\n",
        "      bin_edges = bin_edges[1:]\n",
        "\n",
        "      # Add bin edges and counts\n",
        "      for edge in bin_edges:\n",
        "          hist.bucket_limit.append(edge)\n",
        "      for c in counts:\n",
        "          hist.bucket.append(c)\n",
        "\n",
        "      # Create and write Summary\n",
        "      summary = tf.Summary(value=[tf.Summary.Value(tag=tag, histo=hist)])\n",
        "      self.writer.add_summary(summary, step)\n",
        "      self.writer.flush()"
      ],
      "execution_count": 0,
      "outputs": []
    },
    {
      "metadata": {
        "id": "00fB6LofMldr",
        "colab_type": "text"
      },
      "cell_type": "markdown",
      "source": [
        "### Logging"
      ]
    },
    {
      "metadata": {
        "id": "Xaamq1H-MiJQ",
        "colab_type": "code",
        "outputId": "1d61ffa4-1385-4f52-c8fc-295078c53e22",
        "colab": {
          "base_uri": "https://localhost:8080/",
          "height": 272
        }
      },
      "cell_type": "code",
      "source": [
        "LOG_DIR = '/content/drive/My\\ Drive/Masters-DS/Deep\\ Learning\\ -\\ E533/Homework3/problem1/logs/'\n",
        "get_ipython().system_raw(\n",
        "    'tensorboard --logdir {} --host 0.0.0.0 --port 6006 &'\n",
        "    .format(LOG_DIR)\n",
        ")\n",
        "\n",
        "\n",
        "! wget https://bin.equinox.io/c/4VmDzA7iaHb/ngrok-stable-linux-amd64.zip\n",
        "! unzip ngrok-stable-linux-amd64.zip\n",
        "get_ipython().system_raw('./ngrok http 6006 &')\n",
        "! curl -s http://localhost:4040/api/tunnels | python3 -c \\\n",
        "    \"import sys, json; print(json.load(sys.stdin)['tunnels'][0]['public_url'])\""
      ],
      "execution_count": 11,
      "outputs": [
        {
          "output_type": "stream",
          "text": [
            "--2019-03-24 19:26:36--  https://bin.equinox.io/c/4VmDzA7iaHb/ngrok-stable-linux-amd64.zip\n",
            "Resolving bin.equinox.io (bin.equinox.io)... 52.45.248.161, 52.203.102.189, 52.72.250.2, ...\n",
            "Connecting to bin.equinox.io (bin.equinox.io)|52.45.248.161|:443... connected.\n",
            "HTTP request sent, awaiting response... 200 OK\n",
            "Length: 13584026 (13M) [application/octet-stream]\n",
            "Saving to: ‘ngrok-stable-linux-amd64.zip.17’\n",
            "\n",
            "ngrok-stable-linux- 100%[===================>]  12.95M  5.46MB/s    in 2.4s    \n",
            "\n",
            "2019-03-24 19:26:39 (5.46 MB/s) - ‘ngrok-stable-linux-amd64.zip.17’ saved [13584026/13584026]\n",
            "\n",
            "Archive:  ngrok-stable-linux-amd64.zip\n",
            "replace ngrok? [y]es, [n]o, [A]ll, [N]one, [r]ename: y\n",
            "  inflating: ngrok                   \n",
            "http://5b64f3c4.ngrok.io\n"
          ],
          "name": "stdout"
        }
      ]
    },
    {
      "metadata": {
        "id": "ApUjW2lONFqA",
        "colab_type": "text"
      },
      "cell_type": "markdown",
      "source": [
        "## Compute Running Average for the losses or accuracy"
      ]
    },
    {
      "metadata": {
        "id": "yqvML_9BMo1A",
        "colab_type": "code",
        "colab": {}
      },
      "cell_type": "code",
      "source": [
        "class RunningAverage ():\n",
        "    \"\"\"A simple class that maintains the running average of a quantity\n",
        "    Example:\n",
        "    ```\n",
        "    loss_avg = RunningAverage()\n",
        "    loss_avg.update(2)\n",
        "    loss_avg.update(4)\n",
        "    loss_avg() = 3\n",
        "    ```\n",
        "    \"\"\"\n",
        "\n",
        "    def __init__( self ):\n",
        "        self.steps = 0\n",
        "        self.total = 0\n",
        "\n",
        "    def update( self, val ):\n",
        "        self.total += val\n",
        "        self.steps += 1\n",
        "\n",
        "    def __call__( self ):\n",
        "        return self.total / float ( self.steps )\n"
      ],
      "execution_count": 0,
      "outputs": []
    },
    {
      "metadata": {
        "id": "OZm7svXZNOkP",
        "colab_type": "text"
      },
      "cell_type": "markdown",
      "source": [
        "## Simple CNN"
      ]
    },
    {
      "metadata": {
        "id": "KntnzTxqNKRX",
        "colab_type": "code",
        "outputId": "dcfd3d41-599a-4d6b-e8b1-ed8a1177bca5",
        "colab": {
          "base_uri": "https://localhost:8080/",
          "height": 153
        }
      },
      "cell_type": "code",
      "source": [
        "class Net(nn.Module):\n",
        "  def __init__(self):\n",
        "    super(Net,self).__init__()\n",
        "    \n",
        "    ## Define NN - 5 hidden layers 1024 hidden units\n",
        "    self.fc1 = nn.Linear(784, 1024)\n",
        "    self.fc2 = nn.Linear(1024, 1024)\n",
        "    self.fc3 = nn.Linear(1024, 1024)\n",
        "    self.fc4 = nn.Linear(1024, 1024)\n",
        "    self.fc5 = nn.Linear(1024, 1024)\n",
        "    self.fc6 = nn.Linear(1024, 10)\n",
        "    \n",
        "  \n",
        "  def forward(self,x):\n",
        "    ## flat input features\n",
        "    x = x.view(-1, self.num_flat_features(x))\n",
        "    x = F.relu(self.fc1(x))\n",
        "    x = F.relu(self.fc2(x))\n",
        "    x = F.relu(self.fc3(x))\n",
        "    x = F.relu(self.fc4(x))\n",
        "    x = F.relu(self.fc5(x))\n",
        "    x = self.fc6(x)\n",
        "    \n",
        "    return F.log_softmax(x, dim=1)  \n",
        "  \n",
        "  def num_flat_features(self,x):\n",
        "    size = x.size()[1:] # all dimensions except the batch dimension\n",
        "    num_features = 1\n",
        "    for s in size:\n",
        "      num_features *=s\n",
        "    return num_features\n",
        "    \n",
        "    \n",
        "model = Net()\n",
        "if is_cuda:\n",
        "    model.cuda()\n",
        "    \n",
        "## 5 hidden layers \n",
        "print(model)"
      ],
      "execution_count": 13,
      "outputs": [
        {
          "output_type": "stream",
          "text": [
            "Net(\n",
            "  (fc1): Linear(in_features=784, out_features=1024, bias=True)\n",
            "  (fc2): Linear(in_features=1024, out_features=1024, bias=True)\n",
            "  (fc3): Linear(in_features=1024, out_features=1024, bias=True)\n",
            "  (fc4): Linear(in_features=1024, out_features=1024, bias=True)\n",
            "  (fc5): Linear(in_features=1024, out_features=1024, bias=True)\n",
            "  (fc6): Linear(in_features=1024, out_features=10, bias=True)\n",
            ")\n"
          ],
          "name": "stdout"
        }
      ]
    },
    {
      "metadata": {
        "id": "qd4ONk1dNSVG",
        "colab_type": "code",
        "colab": {}
      },
      "cell_type": "code",
      "source": [
        "## Adam Optimizer \n",
        "import torch.optim as optim\n",
        "\n",
        "# Loss and optimizer\n",
        "learning_rate = 0.001\n",
        "momemtum = 0.9\n",
        "\n",
        "criterion = nn.CrossEntropyLoss()\n",
        "optimizer = torch.optim.Adam(model.parameters(), lr=learning_rate)\n",
        "\n",
        "## Decay learning rate by a factor of 0.1 every  7 epochs\n",
        "from torch.optim import lr_scheduler\n",
        "\n",
        "exp_lr_scheduler = lr_scheduler.StepLR(optimizer,step_size = 7,gamma = 0.1)\n",
        "logger = TensorBoardLogger(\"./problem1/logs\") \n",
        "\n",
        "num_epochs = 10"
      ],
      "execution_count": 0,
      "outputs": []
    },
    {
      "metadata": {
        "id": "DltBjklm_24y",
        "colab_type": "text"
      },
      "cell_type": "markdown",
      "source": [
        "### Train"
      ]
    },
    {
      "metadata": {
        "id": "fOh1Q3MINW1m",
        "colab_type": "code",
        "colab": {}
      },
      "cell_type": "code",
      "source": [
        "\n",
        "### Training\n",
        "def train(model, criterion, optimizer):\n",
        "  model.train()\n",
        "  running_loss = []\n",
        "  running_corrects = 0\n",
        "  total_step = len(train_loader)\n",
        "  \n",
        "  loss_avg = RunningAverage ()\n",
        "  train_accuracy = RunningAverage()\n",
        "  \n",
        "  for i, (inputs, labels) in enumerate(train_loader):\n",
        "    if is_cuda:\n",
        "      inputs,labels = inputs.cuda(),labels.cuda()\n",
        "        \n",
        "    inputs, labels = Variable(inputs), Variable(labels)\n",
        "    \n",
        "    # Run the forward pass\n",
        "    outputs = model(inputs)\n",
        "    loss = criterion(outputs, labels)\n",
        "    loss_avg.update(loss.item())\n",
        "    \n",
        "    # Backprop and perform Adam optimisation\n",
        "    optimizer.zero_grad()\n",
        "    loss.backward()\n",
        "    optimizer.step()\n",
        "    # Track the accuracy\n",
        "    _, argmax = torch.max(outputs, 1)\n",
        "    accuracy = (labels == argmax.squeeze()).float().mean()\n",
        "    train_accuracy.update(accuracy)\n",
        "    \n",
        "    ## average accuracy and loss per epoch\n",
        "  return train_accuracy(), loss_avg(), inputs\n",
        "   "
      ],
      "execution_count": 0,
      "outputs": []
    },
    {
      "metadata": {
        "id": "5_RLeTzKNfCN",
        "colab_type": "code",
        "outputId": "e0007c80-1dc0-449b-ae1a-99a2ca5f90aa",
        "colab": {
          "base_uri": "https://localhost:8080/",
          "height": 102
        }
      },
      "cell_type": "code",
      "source": [
        "## Build Model \n",
        "train_acc = []\n",
        "train_loss = []\n",
        "\n",
        "model.train()\n",
        "def build_model(model, criterion, optimizer,num_epochs):\n",
        "  for step in range(num_epochs):\n",
        "    \n",
        "    accuracy, loss, images = train(model, criterion, optimizer) \n",
        "    train_acc.append(accuracy)\n",
        "    train_loss.append(loss)\n",
        "    \n",
        "    if (step+1) % 2 == 0:\n",
        "      print ('Step [{}/{}], Loss: {:.4f}, Acc: {:.2f}'.format(step+1, num_epochs, loss, accuracy))\n",
        "\n",
        "      # 1. Log scalar values (scalar summary)\n",
        "      info = { 'loss': loss, 'accuracy': accuracy }\n",
        "\n",
        "      for tag, value in info.items():\n",
        "          logger.scalar_summary(tag, value, step+1)\n",
        "\n",
        "      # 2. Log values and gradients of the parameters (histogram summary)\n",
        "      for tag, value in model.named_parameters():\n",
        "          tag = tag.replace('.', '/')\n",
        "          logger.histo_summary(tag, value.data.cpu().numpy(), step+1)\n",
        "          logger.histo_summary(tag+'/grad', value.grad.data.cpu().numpy(), step+1)\n",
        "\n",
        "      # 3. Log training images (image summary)\n",
        "      info = { 'images': images.view(-1, 28, 28)[:10].cpu().numpy() }\n",
        "\n",
        "      #for tag, images in info.items():\n",
        "       #   logger.image_summary(tag, images, step+1)\n",
        "      \n",
        "     \n",
        "\n",
        "build_model(model,criterion, optimizer,num_epochs)\n"
      ],
      "execution_count": 16,
      "outputs": [
        {
          "output_type": "stream",
          "text": [
            "Step [2/10], Loss: 0.1176, Acc: 0.97\n",
            "Step [4/10], Loss: 0.0727, Acc: 0.98\n",
            "Step [6/10], Loss: 0.0516, Acc: 0.99\n",
            "Step [8/10], Loss: 0.0326, Acc: 0.99\n",
            "Step [10/10], Loss: 0.0343, Acc: 0.99\n"
          ],
          "name": "stdout"
        }
      ]
    },
    {
      "metadata": {
        "id": "MxIOReiDNlQN",
        "colab_type": "code",
        "outputId": "ce8bad4b-a162-4741-d900-b3ed90b48c01",
        "colab": {
          "base_uri": "https://localhost:8080/",
          "height": 381
        }
      },
      "cell_type": "code",
      "source": [
        "import numpy as np\n",
        "plt.plot(np.arange(num_epochs), train_acc)\n",
        "plt.plot(np.arange(num_epochs),train_loss)\n",
        "plt.legend([\"accuracy\",\"loss\"])\n",
        "plt.title(\"MNIST Train accuracy\")"
      ],
      "execution_count": 19,
      "outputs": [
        {
          "output_type": "execute_result",
          "data": {
            "text/plain": [
              "Text(0.5, 1.0, 'MNIST Train accuracy')"
            ]
          },
          "metadata": {
            "tags": []
          },
          "execution_count": 19
        },
        {
          "output_type": "display_data",
          "data": {
            "image/png": "[encoded data removed]",
            "text/plain": [
              "<Figure size 576x396 with 1 Axes>"
            ]
          },
          "metadata": {
            "tags": []
          }
        }
      ]
    },
    {
      "metadata": {
        "id": "LDfrR_KnQCOa",
        "colab_type": "text"
      },
      "cell_type": "markdown",
      "source": [
        "### Test Model"
      ]
    },
    {
      "metadata": {
        "id": "IU2KZBYQPF_D",
        "colab_type": "code",
        "outputId": "f3b6abcd-18b2-4fb1-b510-be57c32d8b2a",
        "colab": {
          "base_uri": "https://localhost:8080/",
          "height": 34
        }
      },
      "cell_type": "code",
      "source": [
        "# Test the model\n",
        "# In test phase, we don't need to compute gradients (for memory efficiency)\n",
        "#liveloss_test = PlotLosses()\n",
        "\n",
        "model.eval()\n",
        "with torch.no_grad():\n",
        "    correct = 0\n",
        "    total = 0\n",
        "    batch_correct = 0\n",
        "    test_accuracy = RunningAverage()\n",
        "    for step, (images, labels) in enumerate(test_loader):\n",
        "        batch_correct = 0\n",
        "        images = images.to(device)\n",
        "        labels = labels.to(device)\n",
        "        \n",
        "        outputs = model(images)\n",
        "        values, predicted = torch.max(outputs.data, 1)\n",
        "        total += labels.size(0)\n",
        "        batch_correct += (predicted == labels).sum().item()\n",
        "                \n",
        "        correct+=batch_correct\n",
        "        # 1. Log scalar values (scalar summary)\n",
        "        info = {'accuracy': batch_correct }\n",
        "        \n",
        "        for tag, value in info.items():\n",
        "          logger.scalar_summary(tag, value, step+1)\n",
        "        \n",
        "        # 2. Log test images (image summary)\n",
        "        info = { 'test_predictions_images': images.view(-1, 28, 28)[:1000].cpu().numpy() }\n",
        "        \n",
        "        for tag, images in info.items():\n",
        "          logger.image_summary(tag, images, step+1)\n",
        "          \n",
        "        #liveloss_test.update({\n",
        "        #'test accuracy': (100 * correct / total),\n",
        "        #})\n",
        "        test_accuracy.update(batch_correct/labels.size(0))\n",
        "    #liveloss_test.draw()\n",
        "     \n",
        "    print('Accuracy of the network on the 10000 test images: {} %'.format(100*test_accuracy()))\n",
        "\n",
        "    "
      ],
      "execution_count": 0,
      "outputs": [
        {
          "output_type": "stream",
          "text": [
            "Accuracy of the network on the 10000 test images: 97.91337025316456 %\n"
          ],
          "name": "stdout"
        }
      ]
    },
    {
      "metadata": {
        "id": "pWsXcKUyW5pC",
        "colab_type": "text"
      },
      "cell_type": "markdown",
      "source": [
        "## SVD"
      ]
    },
    {
      "metadata": {
        "id": "j7ocqXwzQENI",
        "colab_type": "code",
        "colab": {}
      },
      "cell_type": "code",
      "source": [
        "class IdentityModule(nn.Module):\n",
        "    def forward(self, inputs):\n",
        "        return inputs\n",
        "\n",
        "identity = IdentityModule()\n",
        "\n",
        "svd = lambda weights: torch.svd(weights)\n",
        "derivative_svd = lambda weights: Variable(identity(weights), requires_grad=True)\n",
        "get_d_w_matrix = lambda U,S,V,D: torch.mm(U[:,:D], torch.mm(S[:D].diag(), V[:,:D].t()))\n",
        "\n",
        "layer1 = (list(model.fc1.named_parameters()))\n",
        "layer1_Weights = layer1[0][1]\n",
        "\n",
        "layer2 = (list(model.fc2.named_parameters()))\n",
        "layer2_Weights = layer2[0][1]\n",
        "\n",
        "layer3 = (list(model.fc3.named_parameters()))\n",
        "layer3_Weights = layer3[0][1]\n",
        "\n",
        "layer4 = (list(model.fc4.named_parameters()))\n",
        "layer4_Weights = layer4[0][1]\n",
        "\n",
        "\n",
        "layer5 = (list(model.fc5.named_parameters()))\n",
        "layer5_Weights = layer5[0][1]\n",
        "\n",
        "D = [10,20,50,100,200,784]"
      ],
      "execution_count": 0,
      "outputs": []
    },
    {
      "metadata": {
        "id": "KULDdEhkXKiY",
        "colab_type": "code",
        "colab": {}
      },
      "cell_type": "code",
      "source": [
        "layer1_approx = []\n",
        "layer2_approx = []\n",
        "layer3_approx = []\n",
        "layer4_approx = []\n",
        "layer5_approx = []\n",
        "for d in D:\n",
        "  ## Layer 1 - D\n",
        "  U1, S1, V1 = svd(layer1_Weights)\n",
        "  \n",
        "  layer1 = get_d_w_matrix(U1, S1, V1,d)\n",
        "  \n",
        "  layer1_approx.append(layer1)\n",
        "  \n",
        "  ## Layer 2 - D\n",
        "  U2, S2, V2 = svd(layer2_Weights)\n",
        "  layer2 = get_d_w_matrix(U2, S2, V2,d)\n",
        "  \n",
        "  layer2_approx.append(layer2)\n",
        "  \n",
        "  ## Layer 3 - D\n",
        "  U3, S3, V3 = svd(layer3_Weights)\n",
        "  layer3 = get_d_w_matrix(U3, S3, V3,d)\n",
        "  \n",
        "  layer3_approx.append(layer3)\n",
        "  \n",
        "  ## Layer 4 - D\n",
        "  U4, S4, V4 = svd(layer4_Weights)\n",
        "  layer4 = get_d_w_matrix(U4, S4, V4,d)\n",
        "  \n",
        "  layer4_approx.append(layer4)\n",
        "  \n",
        "  ## Layer 5 - D\n",
        "  U5, S5, V5 = svd(layer5_Weights)\n",
        "  layer5 = get_d_w_matrix(U5, S5, V5,d)\n",
        "  \n",
        "  layer5_approx.append(layer5)\n",
        "  \n",
        "  \n",
        "  \n",
        "  \n"
      ],
      "execution_count": 0,
      "outputs": []
    },
    {
      "metadata": {
        "id": "zV-oQVDNpoA2",
        "colab_type": "code",
        "colab": {}
      },
      "cell_type": "code",
      "source": [
        ""
      ],
      "execution_count": 0,
      "outputs": []
    },
    {
      "metadata": {
        "id": "OjAg-E9Ogk2C",
        "colab_type": "text"
      },
      "cell_type": "markdown",
      "source": [
        "### Test the Model with new weights"
      ]
    },
    {
      "metadata": {
        "id": "vFKfgiHnaRFi",
        "colab_type": "code",
        "outputId": "d650c033-4596-40b5-ced1-10138a9395a7",
        "colab": {
          "base_uri": "https://localhost:8080/",
          "height": 119
        }
      },
      "cell_type": "code",
      "source": [
        "accuracies = []\n",
        "x_values = [10,20,50,100,200,784]\n",
        "\n",
        "for index, d in enumerate(D):\n",
        "  with torch.no_grad():\n",
        "    \n",
        "    # layer 1\n",
        "    w1 = layer1_approx[index]\n",
        "    model.fc1.weight.data = (w1)\n",
        "    \n",
        "    # layer 2\n",
        "    w2 = layer2_approx[index]\n",
        "    model.fc2.weight.data = (w2)\n",
        "    \n",
        "    w3 = layer3_approx[index]\n",
        "    model.fc3.weight.data = (w3)\n",
        "    \n",
        "    w4 = layer4_approx[index]\n",
        "    model.fc4.weight.data = (w4)\n",
        "    \n",
        "    w5 = layer5_approx[index]\n",
        "    model.fc5.weight.data = (w5)\n",
        "    \n",
        "    correct = 0\n",
        "    total = 0\n",
        "    batch_correct = 0\n",
        "    test_accuracy = RunningAverage()\n",
        "    for step, (images, labels) in enumerate(test_loader):\n",
        "      batch_correct = 0\n",
        "      images = images.to(device)\n",
        "      labels = labels.to(device)\n",
        "        \n",
        "      outputs = model(images)\n",
        "      values, predicted = torch.max(outputs.data, 1)\n",
        "      total += labels.size(0)\n",
        "      batch_correct += (predicted == labels).sum().item()\n",
        "      \n",
        "      test_accuracy.update(batch_correct/labels.size(0))\n",
        "      \n",
        "    print('Accuracy of the network on the 10000, d:{}, test images: {} %'.format(d,100*test_accuracy()))\n",
        "    accuracies.append(100*test_accuracy())\n",
        "      \n",
        "      \n",
        "      \n",
        "      \n",
        "      \n",
        "    "
      ],
      "execution_count": 52,
      "outputs": [
        {
          "output_type": "stream",
          "text": [
            "Accuracy of the network on the 10000, d:10, test images: 66.65348101265823 %\n",
            "Accuracy of the network on the 10000, d:20, test images: 94.96637658227847 %\n",
            "Accuracy of the network on the 10000, d:50, test images: 97.62658227848101 %\n",
            "Accuracy of the network on the 10000, d:100, test images: 97.80458860759494 %\n",
            "Accuracy of the network on the 10000, d:200, test images: 97.76503164556962 %\n",
            "Accuracy of the network on the 10000, d:784, test images: 97.66613924050634 %\n"
          ],
          "name": "stdout"
        }
      ]
    },
    {
      "metadata": {
        "id": "uyZz03s-hDLZ",
        "colab_type": "code",
        "outputId": "163c9718-9d8f-40fa-a72e-5e1ff74a9869",
        "colab": {
          "base_uri": "https://localhost:8080/",
          "height": 397
        }
      },
      "cell_type": "code",
      "source": [
        "plt.plot(x_values, accuracies,marker='o')\n",
        "plt.xlabel(\"d -values\")\n",
        "plt.ylabel(\"test accuracy\")\n",
        "plt.title(\"model accuracy after compression\")"
      ],
      "execution_count": 0,
      "outputs": [
        {
          "output_type": "execute_result",
          "data": {
            "text/plain": [
              "Text(0.5, 1.0, 'model accuracy after compression')"
            ]
          },
          "metadata": {
            "tags": []
          },
          "execution_count": 22
        },
        {
          "output_type": "display_data",
          "data": {
            "image/png": "[encoded data removed]",
            "text/plain": [
              "<Figure size 576x396 with 1 Axes>"
            ]
          },
          "metadata": {
            "tags": []
          }
        }
      ]
    },
    {
      "metadata": {
        "id": "XhWovG2t_Yr2",
        "colab_type": "text"
      },
      "cell_type": "markdown",
      "source": [
        "## Part A"
      ]
    },
    {
      "metadata": {
        "id": "4L6hpc6hhDm4",
        "colab_type": "code",
        "colab": {}
      },
      "cell_type": "code",
      "source": [
        "fixed_D = 20"
      ],
      "execution_count": 0,
      "outputs": []
    },
    {
      "metadata": {
        "id": "Y3vc2L_D0GJO",
        "colab_type": "code",
        "colab": {}
      },
      "cell_type": "code",
      "source": [
        "class CompresesedNet(nn.Module):\n",
        "  def __init__(self, u1,v1,u2,v2,u3,v3,u4,v4,u5,v5):\n",
        "    super(CompresesedNet,self).__init__()\n",
        "    \n",
        "    ## Define NN - 5 hidden layers 1024 hidden units\n",
        "    self.fc6 = nn.Linear(1024, 10)\n",
        "    \n",
        "    # Layer 1\n",
        "    self.u1 =  torch.nn.Parameter(u1,requires_grad=True)\n",
        "    self.v1 =  torch.nn.Parameter(v1,requires_grad=True)\n",
        "    \n",
        "    self.bias1 = torch.nn.Parameter(torch.randn(1024),requires_grad=True)\n",
        "\n",
        "    \n",
        "    \n",
        "    # Layer 2\n",
        "    self.u2 = torch.nn.Parameter(u2,requires_grad=True)\n",
        "    self.v2 = torch.nn.Parameter(v2,requires_grad=True)\n",
        "    self.bias2 = torch.nn.Parameter(torch.randn(1024),requires_grad=True)\n",
        "     \n",
        "    \n",
        "    \n",
        "    # Layer 3\n",
        "    self.u3 = torch.nn.Parameter(u3,requires_grad=True)\n",
        "    self.v3 = torch.nn.Parameter(v3,requires_grad=True)\n",
        "    self.bias3 = torch.nn.Parameter(torch.randn(1024),requires_grad=True)\n",
        "    \n",
        "    # Layer 4\n",
        "    self.u4 = torch.nn.Parameter(u4,requires_grad=True)\n",
        "    self.v4 = torch.nn.Parameter(v4,requires_grad=True)\n",
        "    self.bias4 = torch.nn.Parameter(torch.randn(1024),requires_grad=True)\n",
        "    \n",
        "    # Layer 5\n",
        "    self.u5 = torch.nn.Parameter(u5,requires_grad=True)\n",
        "    self.v5 = torch.nn.Parameter(v5,requires_grad=True)\n",
        "    self.bias5 = torch.nn.Parameter(torch.randn(1024),requires_grad=True)\n",
        "    \n",
        "  \n",
        "  def forward(self,x):\n",
        "    ## flat input features\n",
        "    x = x.view(-1, self.num_flat_features(x))\n",
        "    \n",
        "    #layer 1\n",
        "     \n",
        "    x = torch.add(self.bias1, torch.mm(x,torch.mm(self.u1,self.v1).t()))\n",
        "     \n",
        "    x = F.relu(x)\n",
        "    \n",
        "    #layer 2\n",
        "    x =  torch.add(torch.mm(x,torch.mm(self.u2,self.v2).t()) , self.bias2)\n",
        "    x = F.relu(x)\n",
        "    \n",
        "    #layer 3\n",
        "    x = torch.add(torch.mm(x,torch.mm(self.u3,self.v3).t()), self.bias3)\n",
        "    x = F.relu(x)\n",
        "    \n",
        "    #layer 4\n",
        "    x = torch.add(torch.mm(x,torch.mm(self.u4,self.v4).t()) , self.bias4)\n",
        "    x = F.relu(x)\n",
        "    \n",
        "    #layer 5\n",
        "    x = torch.add(torch.mm(x,torch.mm(self.u5,self.v5).t()) , self.bias5)\n",
        "    x = F.relu(x)\n",
        "    \n",
        "    x = self.fc6(x)\n",
        "    \n",
        "    return F.log_softmax(x, dim=1)  \n",
        "  \n",
        "  def num_flat_features(self,x):\n",
        "    size = x.size()[1:] # all dimensions except the batch dimension\n",
        "    num_features = 1\n",
        "    for s in size:\n",
        "      num_features *=s\n",
        "    return num_features\n",
        "  \n",
        " "
      ],
      "execution_count": 0,
      "outputs": []
    },
    {
      "metadata": {
        "id": "QEIb7jAp0I8H",
        "colab_type": "text"
      },
      "cell_type": "markdown",
      "source": [
        "Initialize the weight matrices W(l) of a NEW network with the SVD factorization U(l)\n",
        ":;1:D\n",
        "\u0016\n",
        "V (l)\n",
        ">\n",
        ":;1:D\n",
        "you learned in P1.5, where I combined S(l)\n",
        "1:D;1:DV (l)>\n",
        ":;1:D into a new matrix\n",
        "\u0016\n",
        "V (l)\n",
        ">\n",
        ":;1:D. Note that\n",
        "you don't replace W(l) with the approximated matrix cW\n",
        "(l)\n",
        ". Instead, you have to speci\fcally use\n",
        "two variables U(l)\n",
        ":;1:D and\n",
        "\u0016\n",
        "V (l)\n",
        ">\n",
        ":;1:D in your implementation as a new pair of parameter matrices.\n",
        "If you stop here, you'll get the same test performance as in P1.5. You can \fnetune this network\n",
        "though. Now this new network has new parameters to update, i.e. U(l)\n",
        ":;1:D and\n",
        "\u0016\n",
        "V (l)\n",
        ">\n",
        ":;1:D (as well\n",
        "as the bias terms). Update them using BP. Since you initialized the new parameters with SVD,\n",
        "which is a pretty good starting point, you may want to use a smaller-than-usual learning rate. In\n",
        "this training job, you never use W(l), but work on the compressed net with U(l)\n",
        ":;1:D and V (l)\n",
        ":;1:D as\n",
        "its parameters."
      ]
    },
    {
      "metadata": {
        "id": "h8M0h6jM0MbB",
        "colab_type": "code",
        "colab": {}
      },
      "cell_type": "code",
      "source": [
        "## initialize weights\n",
        "U1, S1, V1 = svd(layer1_Weights)\n",
        "U2, S2, V2 = svd(layer2_Weights)\n",
        "U3, S3, V3 = svd(layer3_Weights)\n",
        "U4, S4, V4 = svd(layer4_Weights)\n",
        "U5, S5, V5 = svd(layer5_Weights)\n",
        "\n",
        "U1, V11 = U1[:,:fixed_D], torch.mm(S1[:fixed_D].diag(), V1[:,:fixed_D].t())\n",
        "U2 , V22 = U2[:,:fixed_D], torch.mm(S2[:fixed_D].diag(), V2[:,:fixed_D].t())\n",
        "U3 , V33 = U3[:,:fixed_D], torch.mm(S3[:fixed_D].diag(), V3[:,:fixed_D].t())\n",
        "U4 , V44 = U4[:,:fixed_D], torch.mm(S4[:fixed_D].diag(), V4[:,:fixed_D].t())\n",
        "U5 , V55 = U5[:,:fixed_D], torch.mm(S5[:fixed_D].diag(), V5[:,:fixed_D].t())\n",
        "\n",
        "\n",
        "\n",
        "model2 = CompresesedNet(U1,V11,U2,V22,U3, V33, U4, V44,U5,V55)\n",
        "if is_cuda:\n",
        "  model2 = model2.to(device)"
      ],
      "execution_count": 0,
      "outputs": []
    },
    {
      "metadata": {
        "id": "y3zmect1k23B",
        "colab_type": "code",
        "outputId": "f2b7eea7-85c3-4a7b-e9f5-a448b11105e7",
        "colab": {
          "base_uri": "https://localhost:8080/",
          "height": 102
        }
      },
      "cell_type": "code",
      "source": [
        "## Train\n",
        "\n",
        "model2.train()\n",
        "train_acc_2 = []\n",
        "train_loss_2 = []\n",
        "def build_model2(model, criterion, optimizer,num_epochs):\n",
        "  for step in range(num_epochs):\n",
        "    \n",
        "    accuracy, loss, images = train(model, criterion, optimizer) \n",
        "    train_acc_2.append(accuracy)\n",
        "    train_loss_2.append(loss)\n",
        "    \n",
        "    if (step+1) % 2 == 0:\n",
        "      print ('Step [{}/{}], Loss: {:.4f}, Acc: {:.2f}'.format(step+1, num_epochs, loss, accuracy))\n",
        "\n",
        "      # 1. Log scalar values (scalar summary)\n",
        "      info = { 'loss': loss, 'accuracy': accuracy }\n",
        "\n",
        "      for tag, value in info.items():\n",
        "          logger.scalar_summary(tag, value, step+1)\n",
        "\n",
        "      # 2. Log values and gradients of the parameters (histogram summary)\n",
        "      for tag, value in model.named_parameters():\n",
        "        tag = tag.replace('.', '/')\n",
        "        logger.histo_summary(tag, value.data.cpu().numpy(), step+1)\n",
        "        logger.histo_summary(tag+'/grad', value.grad.data.cpu().numpy(), step+1)\n",
        "\n",
        "optimizer2 = torch.optim.Adam(model2.parameters(), lr=0.00001)\n",
        "\n",
        "build_model2(model2,criterion, optimizer2,num_epochs)\n",
        "\n"
      ],
      "execution_count": 0,
      "outputs": [
        {
          "output_type": "stream",
          "text": [
            "Step [2/10], Loss: 0.1514, Acc: 0.97\n",
            "Step [4/10], Loss: 0.0938, Acc: 0.98\n",
            "Step [6/10], Loss: 0.0767, Acc: 0.98\n",
            "Step [8/10], Loss: 0.0665, Acc: 0.98\n",
            "Step [10/10], Loss: 0.0589, Acc: 0.98\n"
          ],
          "name": "stdout"
        }
      ]
    },
    {
      "metadata": {
        "id": "hMezq8vzvWLU",
        "colab_type": "text"
      },
      "cell_type": "markdown",
      "source": [
        "### Compressed Network"
      ]
    },
    {
      "metadata": {
        "id": "nUJnQKq4mnf2",
        "colab_type": "code",
        "outputId": "e6a8d442-de6f-44a2-99f3-766c65ca6469",
        "colab": {
          "base_uri": "https://localhost:8080/",
          "height": 381
        }
      },
      "cell_type": "code",
      "source": [
        "import numpy as np\n",
        "plt.plot(np.arange(num_epochs), train_acc_2)\n",
        "plt.plot(np.arange(num_epochs),train_loss_2)\n",
        "plt.legend([\"accuracy\",\"loss\"])\n",
        "plt.title(\"Compressed MNIST Train accuracy\")"
      ],
      "execution_count": 0,
      "outputs": [
        {
          "output_type": "execute_result",
          "data": {
            "text/plain": [
              "Text(0.5, 1.0, 'Compressed MNIST Train accuracy')"
            ]
          },
          "metadata": {
            "tags": []
          },
          "execution_count": 27
        },
        {
          "output_type": "display_data",
          "data": {
            "image/png": "[encoded data removed]",
            "text/plain": [
              "<Figure size 576x396 with 1 Axes>"
            ]
          },
          "metadata": {
            "tags": []
          }
        }
      ]
    },
    {
      "metadata": {
        "id": "_Pl4UszzwZm-",
        "colab_type": "text"
      },
      "cell_type": "markdown",
      "source": [
        "###  6 a) Test the compressed Network"
      ]
    },
    {
      "metadata": {
        "id": "-8JFaY5poGyd",
        "colab_type": "code",
        "outputId": "79ede367-8860-4bb5-b118-033527113f73",
        "colab": {
          "base_uri": "https://localhost:8080/",
          "height": 34
        }
      },
      "cell_type": "code",
      "source": [
        "model2.eval()\n",
        "with torch.no_grad():\n",
        "    correct = 0\n",
        "    total = 0\n",
        "    batch_correct = 0\n",
        "    test_accuracy = RunningAverage()\n",
        "    for step, (images, labels) in enumerate(test_loader):\n",
        "        batch_correct = 0\n",
        "        images = images.to(device)\n",
        "        labels = labels.to(device)\n",
        "        \n",
        "        outputs = model2(images)\n",
        "        values, predicted = torch.max(outputs.data, 1)\n",
        "        total += labels.size(0)\n",
        "        batch_correct += (predicted == labels).sum().item()\n",
        "                \n",
        "        correct+=batch_correct\n",
        "        # 1. Log scalar values (scalar summary)\n",
        "        info = {'accuracy': batch_correct }\n",
        "        \n",
        "        for tag, value in info.items():\n",
        "          logger.scalar_summary(tag, value, step+1)\n",
        "        \n",
        "        # 2. Log test images (image summary)\n",
        "        info = { 'test_predictions_images': images.view(-1, 28, 28)[:1000].cpu().numpy() }\n",
        "        \n",
        "        for tag, images in info.items():\n",
        "          logger.image_summary(tag, images, step+1)\n",
        "          \n",
        "        #liveloss_test.update({\n",
        "        #'test accuracy': (100 * correct / total),\n",
        "        #})\n",
        "        test_accuracy.update(batch_correct/labels.size(0))\n",
        "    #liveloss_test.draw()\n",
        "     \n",
        "    print('Accuracy of the network on the 10000 test images: {} %'.format(100*test_accuracy()))"
      ],
      "execution_count": 0,
      "outputs": [
        {
          "output_type": "stream",
          "text": [
            "Accuracy of the network on the 10000 test images: 97.66613924050634 %\n"
          ],
          "name": "stdout"
        }
      ]
    },
    {
      "metadata": {
        "id": "vOXj7MWowfEx",
        "colab_type": "text"
      },
      "cell_type": "markdown",
      "source": [
        "## Part b\n",
        "\n",
        "Another technique you can use is to keep W(l)\n",
        "as your parameter to update. Instead, you do SVD\n",
        "at every iteration and make sure the feedforward pass always uses Wc\n",
        "(l)\n",
        "= U\n",
        "(l)\n",
        ":,1:DS\n",
        "(l)\n",
        "1:D,1:DV\n",
        "(l)>\n",
        ":,1:D.\n",
        "What that means for the training algorithm is that you should think of the SVD procedure as\n",
        "an approximation function W(l) ≈ f(W(l)\n",
        ") = U\n",
        "(l)\n",
        ":,1:DS\n",
        "(l)\n",
        "1:D,1:DV\n",
        "(l)>\n",
        ":,1:D and the update for W(l)\n",
        "involves the derivative f\n",
        "0\n",
        "(W(l)\n",
        ") due to the chain rule (See M6 S15 where I explained this in the\n",
        "quantization context). You can na¨ıvely assume an identity here f\n",
        "0\n",
        "(x) = x to streamline your BP.\n",
        "By doing so, you can feedforward using Wc\n",
        "(l)\n",
        "while the updates are done on W(l)\n",
        ". As the feedforward is always using the SVD’ed version of the weights, the network is aware of the additional\n",
        "error introduced by the compression and can deal with it during training. The implementation of\n",
        "this technique could be tricky, because now you need to define a custom derivative of this SVD\n",
        "approximation function f(·) (an identity function). Both TF and PT give you this option. Take\n",
        "a look at these articles:\n"
      ]
    },
    {
      "metadata": {
        "id": "dm4DZIsdwXSN",
        "colab_type": "code",
        "colab": {}
      },
      "cell_type": "code",
      "source": [
        "## Extend PyTorch Autograd\n",
        "\n",
        "class LinearFunction(torch.autograd.Function):\n",
        "  \n",
        "  @staticmethod\n",
        "  def forward(ctx, input, weight, bias=None):\n",
        "    ctx.save_for_backward(input,weight,bias)\n",
        "    \n",
        "    ## Perform svd\n",
        "    u, s, v = svd(weight)\n",
        "    new_weight = get_d_w_matrix(u, s, v,fixed_D)\n",
        "    \n",
        "    output = input.mm(new_weight.t())\n",
        "    \n",
        "    if bias is not None:\n",
        "      output+=bias.unsqueeze(0).expand_as(output)\n",
        "    return output\n",
        "  \n",
        "  \n",
        "  @staticmethod\n",
        "  def backward(ctx, grad_output):\n",
        "    input, weight, bias = ctx.saved_tensors\n",
        "    \n",
        "    grad_input = grad_weight = grad_bias = None\n",
        "    \n",
        "    if ctx.needs_input_grad[0]:\n",
        "      grad_input = grad_output.mm(weight.t())\n",
        "    \n",
        "    if ctx.needs_input_grad[1]:\n",
        "      neww = (torch.eye(1024))\n",
        "      grad_weight = (neww.to(device)).mm(grad_output.t().mm(input))\n",
        "      \n",
        "    if bias is not None and ctx.needs_input_grad[2]:\n",
        "      grad_bias = grad_output.sum(0).squeeze(0)\n",
        "    \n",
        "    return grad_input, grad_weight, grad_bias\n",
        "      \n",
        "    "
      ],
      "execution_count": 0,
      "outputs": []
    },
    {
      "metadata": {
        "id": "7Yv3Ea-H7Usm",
        "colab_type": "code",
        "outputId": "a8ef282c-5999-40e4-8d3a-230f65584953",
        "colab": {
          "base_uri": "https://localhost:8080/",
          "height": 68
        }
      },
      "cell_type": "code",
      "source": [
        "class CompressedNet2(nn.Module):\n",
        "  def __init__(self):\n",
        "    super(CompressedNet2,self).__init__()\n",
        "    \n",
        "    ## Define NN - 5 hidden layers 1024 hidden units\n",
        "    self.fc6 = nn.Linear(1024, 10)\n",
        "    \n",
        "    \n",
        "    # Layer 1\n",
        "    self.weights1 =  torch.nn.Parameter(torch.randn(1024, 784),requires_grad=True)\n",
        "    self.bias1 = torch.nn.Parameter(torch.randn(1024),requires_grad=True)\n",
        "\n",
        "    \n",
        "    \n",
        "    # Layer 2\n",
        "    self.weights2 =  torch.nn.Parameter(torch.randn(1024, 1024),requires_grad=True)\n",
        "    self.bias2 = torch.nn.Parameter(torch.randn(1024),requires_grad=True)\n",
        "     \n",
        "    \n",
        "    \n",
        "    # Layer 3\n",
        "    self.weights3 =  torch.nn.Parameter(torch.randn(1024, 1024),requires_grad=True)\n",
        "    self.bias3 = torch.nn.Parameter(torch.randn(1024),requires_grad=True)\n",
        "    \n",
        "    # Layer 4\n",
        "    self.weights4 =  torch.nn.Parameter(torch.randn(1024, 1024),requires_grad=True)\n",
        "    self.bias4 = torch.nn.Parameter(torch.randn(1024),requires_grad=True)\n",
        "    \n",
        "    # Layer 5\n",
        "    self.weights5 =  torch.nn.Parameter(torch.randn(1024, 1024),requires_grad=True)\n",
        "    self.bias5 = torch.nn.Parameter(torch.randn(1024),requires_grad=True)\n",
        "    \n",
        "  \n",
        "  def forward(self,x):\n",
        "    ## flat input features\n",
        "    x = x.view(-1, self.num_flat_features(x))\n",
        "    x = F.relu(LinearFunction.apply(x,self.weights1,self.bias1))\n",
        "    x = F.relu(LinearFunction.apply(x,self.weights2,self.bias2))\n",
        "    x = F.relu(LinearFunction.apply(x,self.weights3,self.bias3))\n",
        "    x = F.relu(LinearFunction.apply(x,self.weights4,self.bias4))\n",
        "    x = F.relu(LinearFunction.apply(x,self.weights5,self.bias5))\n",
        "    x = self.fc6(x)\n",
        "    \n",
        "    return F.log_softmax(x, dim=1)  \n",
        "  \n",
        "  def num_flat_features(self,x):\n",
        "    size = x.size()[1:] # all dimensions except the batch dimension\n",
        "    num_features = 1\n",
        "    for s in size:\n",
        "      num_features *=s\n",
        "    return num_features\n",
        "    \n",
        "    \n",
        "model3 = CompressedNet2()\n",
        "if is_cuda:\n",
        "    model3.cuda()\n",
        "    \n",
        "## 5 hidden layers \n",
        "print(model3)"
      ],
      "execution_count": 120,
      "outputs": [
        {
          "output_type": "stream",
          "text": [
            "CompressedNet2(\n",
            "  (fc6): Linear(in_features=1024, out_features=10, bias=True)\n",
            ")\n"
          ],
          "name": "stdout"
        }
      ]
    },
    {
      "metadata": {
        "id": "oOd4r4L18B5W",
        "colab_type": "code",
        "outputId": "7aab2fc5-0e1b-4fb6-9ef3-c485589d9bff",
        "colab": {
          "base_uri": "https://localhost:8080/",
          "height": 476
        }
      },
      "cell_type": "code",
      "source": [
        "model3.train()\n",
        "train_acc_3 = []\n",
        "fixed_D = 20\n",
        "train_loss_3= []\n",
        "def build_model3(model, criterion, optimizer,num_epochs):\n",
        "  for step in range(num_epochs):\n",
        "    \n",
        "    accuracy, loss, images = train(model, criterion, optimizer) \n",
        "    train_acc_3.append(accuracy)\n",
        "    train_loss_3.append(loss)\n",
        "    \n",
        "    if (step+1) % 2 == 0:\n",
        "      print ('Step [{}/{}], Loss: {:.4f}, Acc: {:.2f}'.format(step+1, num_epochs, loss, accuracy))\n",
        "\n",
        "      # 1. Log scalar values (scalar summary)\n",
        "      info = { 'loss': loss, 'accuracy': accuracy }\n",
        "\n",
        "      for tag, value in info.items():\n",
        "          logger.scalar_summary(tag, value, step+1)\n",
        "\n",
        "      # 2. Log values and gradients of the parameters (histogram summary)\n",
        "      for tag, value in model.named_parameters():\n",
        "        tag = tag.replace('.', '/')\n",
        "        logger.histo_summary(tag, value.data.cpu().numpy(), step+1)\n",
        "        logger.histo_summary(tag+'/grad', value.grad.data.cpu().numpy(), step+1)\n",
        "\n",
        "optimizer3 = torch.optim.Adam(model3.parameters(), lr=0.01)\n",
        "num_epochs = 100\n",
        "build_model3(model3,criterion, optimizer3,num_epochs)\n"
      ],
      "execution_count": 0,
      "outputs": [
        {
          "output_type": "stream",
          "text": [
            "Step [2/100], Loss: 852.5993, Acc: 0.23\n",
            "Step [4/100], Loss: 470.6426, Acc: 0.30\n",
            "Step [6/100], Loss: 353.2240, Acc: 0.33\n",
            "Step [8/100], Loss: 294.8501, Acc: 0.34\n",
            "Step [10/100], Loss: 259.0948, Acc: 0.35\n",
            "Step [12/100], Loss: 234.0878, Acc: 0.36\n",
            "Step [14/100], Loss: 215.8953, Acc: 0.37\n",
            "Step [16/100], Loss: 201.3776, Acc: 0.38\n",
            "Step [18/100], Loss: 188.3029, Acc: 0.39\n",
            "Step [20/100], Loss: 177.0318, Acc: 0.40\n",
            "Step [22/100], Loss: 167.3358, Acc: 0.40\n",
            "Step [24/100], Loss: 159.2937, Acc: 0.41\n",
            "Step [26/100], Loss: 152.0821, Acc: 0.42\n",
            "Step [28/100], Loss: 146.5107, Acc: 0.43\n",
            "Step [30/100], Loss: 141.2375, Acc: 0.43\n",
            "Step [32/100], Loss: 136.5701, Acc: 0.44\n",
            "Step [34/100], Loss: 133.3028, Acc: 0.44\n",
            "Step [36/100], Loss: 130.5334, Acc: 0.45\n",
            "Step [38/100], Loss: 128.2867, Acc: 0.45\n",
            "Step [40/100], Loss: 126.1517, Acc: 0.46\n",
            "Step [42/100], Loss: 124.3952, Acc: 0.46\n",
            "Step [44/100], Loss: 121.9564, Acc: 0.47\n",
            "Step [46/100], Loss: 119.7460, Acc: 0.48\n",
            "Step [48/100], Loss: 117.2828, Acc: 0.49\n",
            "Step [50/100], Loss: 115.4857, Acc: 0.49\n",
            "Step [52/100], Loss: 113.2088, Acc: 0.50\n",
            "Step [54/100], Loss: 111.6463, Acc: 0.50\n"
          ],
          "name": "stdout"
        }
      ]
    },
    {
      "metadata": {
        "id": "dPgvP2d_8R0A",
        "colab_type": "code",
        "outputId": "5c08a7d9-cd36-4d57-dfc2-e7b7f7990f2b",
        "colab": {
          "base_uri": "https://localhost:8080/",
          "height": 34
        }
      },
      "cell_type": "code",
      "source": [
        "\n",
        "list(model.named_parameters())[2][1].shape"
      ],
      "execution_count": 0,
      "outputs": [
        {
          "output_type": "execute_result",
          "data": {
            "text/plain": [
              "torch.Size([1024, 1024])"
            ]
          },
          "metadata": {
            "tags": []
          },
          "execution_count": 110
        }
      ]
    },
    {
      "metadata": {
        "id": "i0xhDEkOE04D",
        "colab_type": "text"
      },
      "cell_type": "markdown",
      "source": [
        "### Test"
      ]
    },
    {
      "metadata": {
        "id": "55qR_rl18zuW",
        "colab_type": "code",
        "outputId": "5af3ed73-52f0-442e-87fb-4bb26c20274a",
        "colab": {
          "base_uri": "https://localhost:8080/",
          "height": 34
        }
      },
      "cell_type": "code",
      "source": [
        "model3.eval()\n",
        "with torch.no_grad():\n",
        "    correct = 0\n",
        "    total = 0\n",
        "    batch_correct = 0\n",
        "    test_accuracy = RunningAverage()\n",
        "    for step, (images, labels) in enumerate(test_loader):\n",
        "        batch_correct = 0\n",
        "        images = images.to(device)\n",
        "        labels = labels.to(device)\n",
        "        \n",
        "        outputs = model3(images)\n",
        "        values, predicted = torch.max(outputs.data, 1)\n",
        "        total += labels.size(0)\n",
        "        batch_correct += (predicted == labels).sum().item()\n",
        "                \n",
        "        correct+=batch_correct\n",
        "        # 1. Log scalar values (scalar summary)\n",
        "        info = {'accuracy': batch_correct }\n",
        "        \n",
        "        for tag, value in info.items():\n",
        "          logger.scalar_summary(tag, value, step+1)\n",
        "        \n",
        "        # 2. Log test images (image summary)\n",
        "        info = { 'test_predictions_images': images.view(-1, 28, 28)[:1000].cpu().numpy() }\n",
        "        \n",
        "        for tag, images in info.items():\n",
        "          logger.image_summary(tag, images, step+1)\n",
        "          \n",
        "     \n",
        "        test_accuracy.update(batch_correct/labels.size(0))\n",
        "    \n",
        "     \n",
        "    print('Accuracy of the network on the 10000 test images: {} %'.format(100*test_accuracy()))"
      ],
      "execution_count": 0,
      "outputs": [
        {
          "output_type": "stream",
          "text": [
            "Accuracy of the network on the 10000 test images: 35.868275316455694 %\n"
          ],
          "name": "stdout"
        }
      ]
    },
    {
      "metadata": {
        "id": "0T8v3s7wIiBD",
        "colab_type": "code",
        "colab": {}
      },
      "cell_type": "code",
      "source": [
        ""
      ],
      "execution_count": 0,
      "outputs": []
    }
  ]
}