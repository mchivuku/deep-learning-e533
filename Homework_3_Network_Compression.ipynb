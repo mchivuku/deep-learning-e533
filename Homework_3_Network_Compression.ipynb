{
  "nbformat": 4,
  "nbformat_minor": 0,
  "metadata": {
    "colab": {
      "name": "Homework 3 - Network Compression.ipynb",
      "version": "0.3.2",
      "provenance": [],
      "collapsed_sections": [],
      "toc_visible": true,
      "include_colab_link": true
    },
    "kernelspec": {
      "name": "python3",
      "display_name": "Python 3"
    },
    "accelerator": "GPU"
  },
  "cells": [
    {
      "cell_type": "markdown",
      "metadata": {
        "id": "view-in-github",
        "colab_type": "text"
      },
      "source": [
        "<a href=\"https://colab.research.google.com/github/mchivuku/deep-learning-e533/blob/master/Homework_3_Network_Compression.ipynb\" target=\"_parent\"><img src=\"https://colab.research.google.com/assets/colab-badge.svg\" alt=\"Open In Colab\"/></a>"
      ]
    },
    {
      "metadata": {
        "id": "N08guwSyF-dY",
        "colab_type": "text"
      },
      "cell_type": "markdown",
      "source": [
        "# Assignment 3 - Network Compression Using SVD "
      ]
    },
    {
      "metadata": {
        "id": "Ctiszy0fEu8a",
        "colab_type": "code",
        "colab": {}
      },
      "cell_type": "code",
      "source": [
        "%%capture\n",
        "!pip install tqdm six\n",
        "\n",
        "\n",
        "!pip install bokeh\n",
        "!pip install tensorboard\n",
        "!pip install livelossplot\n",
        "\n",
        "!pip install tensorboard\n",
        "\n"
      ],
      "execution_count": 0,
      "outputs": []
    },
    {
      "metadata": {
        "id": "6FObBczGF6i4",
        "colab_type": "text"
      },
      "cell_type": "markdown",
      "source": [
        "## Connect to Google Drive"
      ]
    },
    {
      "metadata": {
        "id": "cW0uurtqF2kg",
        "colab_type": "code",
        "colab": {
          "base_uri": "https://localhost:8080/",
          "height": 122
        },
        "outputId": "b4205204-6d31-4357-90ca-ffc84a6668cf"
      },
      "cell_type": "code",
      "source": [
        "from google.colab import drive\n",
        "\n",
        "drive.mount(\"/content/drive\")\n",
        "\n",
        "\n"
      ],
      "execution_count": 3,
      "outputs": [
        {
          "output_type": "stream",
          "text": [
            "Go to this URL in a browser: https://accounts.google.com/o/oauth2/auth?client_id=947318989803-6bn6qk8qdgf4n4g3pfee6491hc0brc4i.apps.googleusercontent.com&redirect_uri=urn%3Aietf%3Awg%3Aoauth%3A2.0%3Aoob&scope=email%20https%3A%2F%2Fwww.googleapis.com%2Fauth%2Fdocs.test%20https%3A%2F%2Fwww.googleapis.com%2Fauth%2Fdrive%20https%3A%2F%2Fwww.googleapis.com%2Fauth%2Fdrive.photos.readonly%20https%3A%2F%2Fwww.googleapis.com%2Fauth%2Fpeopleapi.readonly&response_type=code\n",
            "\n",
            "Enter your authorization code:\n",
            "··········\n",
            "Mounted at /content/drive\n"
          ],
          "name": "stdout"
        }
      ]
    },
    {
      "metadata": {
        "id": "pcl8N6T_GGfZ",
        "colab_type": "code",
        "colab": {
          "base_uri": "https://localhost:8080/",
          "height": 51
        },
        "outputId": "5a1ea07e-c276-460f-b5a6-b7fd787f68fc"
      },
      "cell_type": "code",
      "source": [
        "%cd /content/drive/My\\ Drive/Masters-DS/Deep\\ Learning\\ -\\ E533/Homework3\n",
        "\n",
        "%cd .."
      ],
      "execution_count": 31,
      "outputs": [
        {
          "output_type": "stream",
          "text": [
            "/content/drive/My Drive/Masters-DS/Deep Learning - E533/Homework3\n",
            "/content/drive/My Drive/Masters-DS/Deep Learning - E533\n"
          ],
          "name": "stdout"
        }
      ]
    },
    {
      "metadata": {
        "id": "bNJFvRDZGxwV",
        "colab_type": "code",
        "colab": {}
      },
      "cell_type": "code",
      "source": [
        "#content/drive/My Drive/Masters-DS/Deep Learning - E533/MNIST\n"
      ],
      "execution_count": 0,
      "outputs": []
    },
    {
      "metadata": {
        "id": "Iy1SOwdPHVQF",
        "colab_type": "text"
      },
      "cell_type": "markdown",
      "source": [
        "## Import Libraries"
      ]
    },
    {
      "metadata": {
        "id": "Q4EAKe4EHXC1",
        "colab_type": "code",
        "colab": {
          "base_uri": "https://localhost:8080/",
          "height": 68
        },
        "outputId": "0321a3f3-6116-4186-d70f-72ae5df834b8"
      },
      "cell_type": "code",
      "source": [
        "from glob import glob\n",
        "import os\n",
        "import numpy as np\n",
        "import matplotlib.pyplot as plt\n",
        "import shutil\n",
        "from torchvision import transforms\n",
        "from torchvision import models\n",
        "import torchvision\n",
        "import torch\n",
        "from torch.autograd import Variable\n",
        "import torch.nn as nn\n",
        "from torch.optim import lr_scheduler\n",
        "from torch import optim\n",
        "from torchvision.datasets import ImageFolder\n",
        "from torchvision.utils import make_grid\n",
        "import time\n",
        "from torchvision import datasets,transforms\n",
        "import torch.nn.functional as F\n",
        "import torch.optim as optim\n",
        "\n",
        "\n",
        "import os\n",
        "\n",
        "## Plotting library\n",
        "\n",
        "from bokeh.plotting import figure\n",
        "from bokeh.io import show\n",
        "from bokeh.models import LinearAxis, Range1d\n",
        "from livelossplot import PlotLosses\n",
        "\n",
        "\n",
        "plt.style.use('ggplot')\n",
        "\n",
        "print('Torch', torch.__version__, 'CUDA', torch.version.cuda)\n",
        "print('Device:', torch.device('cuda:0'))\n",
        "print(torch.cuda.is_available())\n",
        "\n",
        "is_cuda = torch.cuda.is_available()\n",
        "device = torch.device ( \"cuda:0\" if torch.cuda.is_available () else \"cpu\" )"
      ],
      "execution_count": 80,
      "outputs": [
        {
          "output_type": "stream",
          "text": [
            "Torch 1.0.1.post2 CUDA 10.0.130\n",
            "Device: cuda:0\n",
            "True\n"
          ],
          "name": "stdout"
        }
      ]
    },
    {
      "metadata": {
        "id": "mA-aNbTmH27E",
        "colab_type": "text"
      },
      "cell_type": "markdown",
      "source": [
        "## Helpers functions"
      ]
    },
    {
      "metadata": {
        "id": "zhB6jyw1Hhtc",
        "colab_type": "code",
        "colab": {
          "base_uri": "https://localhost:8080/",
          "height": 34
        },
        "outputId": "f67a53d2-b839-4dd6-b6a6-fac7181c05b8"
      },
      "cell_type": "code",
      "source": [
        "## Show image\n",
        "def imshow(img,title=None):\n",
        "  \"\"\"Imshow for Tensor.\"\"\"\n",
        "  img = img.numpy().transpose((1,2,0))\n",
        "  mean = np.array([0.485, 0.456, 0.406])\n",
        "  std = np.array([0.229, 0.224, 0.225])\n",
        "  img = std * img + mean # normalize\n",
        "  img = np.clip(img, 0, 1) # clip image\n",
        "  plt.figure(figsize=(16,4))\n",
        "  plt.axis('off')\n",
        "  plt.imshow(img)\n",
        "  \n",
        "  if title is not None:\n",
        "    plt.title(title)         \n",
        "  \n",
        "def plot_grid(inputs, classes):\n",
        "  # Make a grid from batch \n",
        "  out = torchvision.utils.make_grid(inputs,10,10)\n",
        "  imshow(out, title=\"\")\n",
        "  print([class_names[x] for x in classes])\n",
        "  \n",
        "  \n",
        "  \n",
        "def plot_loss(y, title):\n",
        "  plt.figure()\n",
        "  plt.plot(y)\n",
        "  plt.title(title)\n",
        "  plt.xlabel('epochs')\n",
        "  plt.ylabel('Loss')\n",
        "  \n",
        "def plot_accuracy(y, title):\n",
        "  plt.figure()\n",
        "  plt.plot(y)\n",
        "  plt.title(title)\n",
        "  plt.xlabel('epochs')\n",
        "  plt.ylabel('accuracy')\n",
        "  \n",
        "  \n",
        "%cd /content/drive/My\\ Drive/Masters-DS/Deep\\ Learning\\ -\\ E533/Homework3"
      ],
      "execution_count": 49,
      "outputs": [
        {
          "output_type": "stream",
          "text": [
            "/content/drive/My Drive/Masters-DS/Deep Learning - E533/Homework3\n"
          ],
          "name": "stdout"
        }
      ]
    },
    {
      "metadata": {
        "id": "wjLdHYDuH9Z6",
        "colab_type": "code",
        "colab": {}
      },
      "cell_type": "code",
      "source": [
        "\n",
        "path=\"\"\n",
        "\n",
        "transformation = transforms.Compose([transforms.ToTensor(),transforms.Normalize((0.1307,), (0.3081,))])\n",
        "train_dataset = datasets.MNIST(os.path.join(path,\"MNIST/data\"),train=True,transform=transformation,download=True)\n",
        "test_dataset = datasets.MNIST(os.path.join(path,\"MNIST/data\"),train=False,transform=transformation,download=True)\n",
        "train_loader = torch.utils.data.DataLoader(train_dataset,batch_size=128,shuffle=True)\n",
        "test_loader = torch.utils.data.DataLoader(test_dataset,batch_size=128,shuffle=True)\n"
      ],
      "execution_count": 0,
      "outputs": []
    },
    {
      "metadata": {
        "id": "ZMwqchB3MI0a",
        "colab_type": "text"
      },
      "cell_type": "markdown",
      "source": [
        "## Train a fully -connected net for MNIST classification. It should be a with 5 hidden layers each of which is with 1024 hidden units. Feel free to use what ever techniques learnt in clas. "
      ]
    },
    {
      "metadata": {
        "id": "Bs7-HtwWIPFJ",
        "colab_type": "code",
        "colab": {
          "base_uri": "https://localhost:8080/",
          "height": 306
        },
        "outputId": "87b9c9c5-c66e-4aca-cb05-1047286baef8"
      },
      "cell_type": "code",
      "source": [
        "class_names = ['0 - zero', '1 - one', '2 - two', '3 - three', '4 - four',\n",
        "               '5 - five', '6 - six', '7 - seven', '8 - eight', '9 - nine']\n",
        "inputs, classes = next(iter(train_loader))\n",
        "plot_grid(inputs, classes)"
      ],
      "execution_count": 54,
      "outputs": [
        {
          "output_type": "stream",
          "text": [
            "['5 - five', '4 - four', '8 - eight', '9 - nine', '5 - five', '0 - zero', '1 - one', '9 - nine', '1 - one', '1 - one', '9 - nine', '3 - three', '5 - five', '5 - five', '6 - six', '7 - seven', '5 - five', '1 - one', '8 - eight', '4 - four', '3 - three', '4 - four', '9 - nine', '4 - four', '9 - nine', '3 - three', '9 - nine', '8 - eight', '8 - eight', '7 - seven', '9 - nine', '9 - nine', '4 - four', '2 - two', '2 - two', '0 - zero', '6 - six', '2 - two', '3 - three', '2 - two', '4 - four', '3 - three', '5 - five', '7 - seven', '4 - four', '0 - zero', '7 - seven', '5 - five', '0 - zero', '2 - two', '0 - zero', '0 - zero', '7 - seven', '3 - three', '5 - five', '8 - eight', '0 - zero', '7 - seven', '3 - three', '7 - seven', '8 - eight', '7 - seven', '4 - four', '7 - seven', '2 - two', '6 - six', '1 - one', '7 - seven', '1 - one', '5 - five', '8 - eight', '3 - three', '2 - two', '4 - four', '8 - eight', '7 - seven', '8 - eight', '9 - nine', '7 - seven', '0 - zero', '0 - zero', '5 - five', '0 - zero', '0 - zero', '4 - four', '4 - four', '8 - eight', '5 - five', '4 - four', '9 - nine', '5 - five', '4 - four', '4 - four', '1 - one', '1 - one', '0 - zero', '9 - nine', '4 - four', '9 - nine', '8 - eight', '4 - four', '1 - one', '6 - six', '0 - zero', '6 - six', '5 - five', '4 - four', '5 - five', '2 - two', '1 - one', '9 - nine', '6 - six', '6 - six', '9 - nine', '4 - four', '6 - six', '0 - zero', '2 - two', '7 - seven', '3 - three', '8 - eight', '8 - eight', '8 - eight', '3 - three', '9 - nine', '4 - four', '4 - four', '0 - zero']\n"
          ],
          "name": "stdout"
        },
        {
          "output_type": "display_data",
          "data": {
            "image/png": "[encoded data removed]",
            "text/plain": [
              "<Figure size 1152x288 with 1 Axes>"
            ]
          },
          "metadata": {
            "tags": []
          }
        }
      ]
    },
    {
      "metadata": {
        "id": "3FhpODHfMdhC",
        "colab_type": "text"
      },
      "cell_type": "markdown",
      "source": [
        "## Tensor Board Utilities"
      ]
    },
    {
      "metadata": {
        "id": "Efjt2JarMWFw",
        "colab_type": "code",
        "colab": {}
      },
      "cell_type": "code",
      "source": [
        "import tensorflow as tf\n",
        "import numpy as np\n",
        "import scipy.misc \n",
        "from PIL import Image \n",
        "try:\n",
        "    from StringIO import StringIO  # Python 2.7\n",
        "except ImportError:\n",
        "    from io import BytesIO         # Python 3.x\n",
        "\n",
        "## Import tensor flow library\n",
        "class TensorBoardLogger(object):\n",
        "  \n",
        "  \"\"\"\n",
        "  Initialize the summary writer\n",
        "  \"\"\"\n",
        "  def __init__(self, log_dir):\n",
        "    \"create summary writer\"\n",
        "    self.writer = tf.summary.FileWriter(log_dir)\n",
        "  \n",
        "  \"\"\"\n",
        "  Add scalar\n",
        "  \"\"\"\n",
        "  def scalar_summary(self, tag, value, step):\n",
        "    summary = tf.Summary(value=[tf.Summary.Value(tag=tag, simple_value=value)])\n",
        "    self.writer.add_summary(summary,step)\n",
        "    \n",
        "  \"\"\"\n",
        "  Add images\n",
        "  \"\"\"\n",
        "  def image_summary(self, tag, images, step):\n",
        "    \"\"\"Log a list of images.\"\"\"\n",
        "\n",
        "    img_summaries = []\n",
        "    for i, img in enumerate(images):\n",
        "        s = BytesIO()\n",
        "        \n",
        "        new_p = Image.fromarray(img)\n",
        "        if new_p.mode != 'L':\n",
        "          new_p = new_p.convert('L')\n",
        "    \n",
        "        new_p.save(s, format=\"png\")\n",
        "\n",
        "        # Create an Image object\n",
        "        img_sum = tf.Summary.Image(encoded_image_string=s.getvalue(),\n",
        "                                   height=img.shape[0],\n",
        "                                   width=img.shape[1])\n",
        "        # Create a Summary value\n",
        "        img_summaries.append(tf.Summary.Value(tag='%s/%d' % (tag, i), image=img_sum))\n",
        "\n",
        "    # Create and write Summary\n",
        "    summary = tf.Summary(value=img_summaries)\n",
        "    self.writer.add_summary(summary, step)\n",
        "        \n",
        "  def histo_summary(self, tag, values, step, bins=1000):\n",
        "      \"\"\"Log a histogram of the tensor of values.\"\"\"\n",
        "\n",
        "      # Create a histogram using numpy\n",
        "      counts, bin_edges = np.histogram(values, bins=bins)\n",
        "\n",
        "      # Fill the fields of the histogram proto\n",
        "      hist = tf.HistogramProto()\n",
        "      hist.min = float(np.min(values))\n",
        "      hist.max = float(np.max(values))\n",
        "      hist.num = int(np.prod(values.shape))\n",
        "      hist.sum = float(np.sum(values))\n",
        "      hist.sum_squares = float(np.sum(values**2))\n",
        "\n",
        "      # Drop the start of the first bin\n",
        "      bin_edges = bin_edges[1:]\n",
        "\n",
        "      # Add bin edges and counts\n",
        "      for edge in bin_edges:\n",
        "          hist.bucket_limit.append(edge)\n",
        "      for c in counts:\n",
        "          hist.bucket.append(c)\n",
        "\n",
        "      # Create and write Summary\n",
        "      summary = tf.Summary(value=[tf.Summary.Value(tag=tag, histo=hist)])\n",
        "      self.writer.add_summary(summary, step)\n",
        "      self.writer.flush()"
      ],
      "execution_count": 0,
      "outputs": []
    },
    {
      "metadata": {
        "id": "00fB6LofMldr",
        "colab_type": "text"
      },
      "cell_type": "markdown",
      "source": [
        "### Logging"
      ]
    },
    {
      "metadata": {
        "id": "Xaamq1H-MiJQ",
        "colab_type": "code",
        "colab": {
          "base_uri": "https://localhost:8080/",
          "height": 272
        },
        "outputId": "486b7216-59ab-41b1-9c8c-801f158133f8"
      },
      "cell_type": "code",
      "source": [
        "LOG_DIR = '/content/drive/My\\ Drive/Masters-DS/Deep\\ Learning\\ -\\ E533/Homework3/problem1/logs/'\n",
        "get_ipython().system_raw(\n",
        "    'tensorboard --logdir {} --host 0.0.0.0 --port 6006 &'\n",
        "    .format(LOG_DIR)\n",
        ")\n",
        "\n",
        "\n",
        "! wget https://bin.equinox.io/c/4VmDzA7iaHb/ngrok-stable-linux-amd64.zip\n",
        "! unzip ngrok-stable-linux-amd64.zip\n",
        "get_ipython().system_raw('./ngrok http 6006 &')\n",
        "! curl -s http://localhost:4040/api/tunnels | python3 -c \\\n",
        "    \"import sys, json; print(json.load(sys.stdin)['tunnels'][0]['public_url'])\""
      ],
      "execution_count": 127,
      "outputs": [
        {
          "output_type": "stream",
          "text": [
            "--2019-03-10 20:38:47--  https://bin.equinox.io/c/4VmDzA7iaHb/ngrok-stable-linux-amd64.zip\n",
            "Resolving bin.equinox.io (bin.equinox.io)... 34.206.9.96, 34.206.130.40, 34.204.22.7, ...\n",
            "Connecting to bin.equinox.io (bin.equinox.io)|34.206.9.96|:443... connected.\n",
            "HTTP request sent, awaiting response... 200 OK\n",
            "Length: 14893410 (14M) [application/octet-stream]\n",
            "Saving to: ‘ngrok-stable-linux-amd64.zip.8’\n",
            "\n",
            "ngrok-stable-linux- 100%[===================>]  14.20M  5.91MB/s    in 2.4s    \n",
            "\n",
            "2019-03-10 20:38:51 (5.91 MB/s) - ‘ngrok-stable-linux-amd64.zip.8’ saved [14893410/14893410]\n",
            "\n",
            "Archive:  ngrok-stable-linux-amd64.zip\n",
            "replace ngrok? [y]es, [n]o, [A]ll, [N]one, [r]ename: y\n",
            "  inflating: ngrok                   \n",
            "http://cb933a59.ngrok.io\n"
          ],
          "name": "stdout"
        }
      ]
    },
    {
      "metadata": {
        "id": "ApUjW2lONFqA",
        "colab_type": "text"
      },
      "cell_type": "markdown",
      "source": [
        "## Compute Running Average for the losses or accuracy"
      ]
    },
    {
      "metadata": {
        "id": "yqvML_9BMo1A",
        "colab_type": "code",
        "colab": {}
      },
      "cell_type": "code",
      "source": [
        "class RunningAverage ():\n",
        "    \"\"\"A simple class that maintains the running average of a quantity\n",
        "    Example:\n",
        "    ```\n",
        "    loss_avg = RunningAverage()\n",
        "    loss_avg.update(2)\n",
        "    loss_avg.update(4)\n",
        "    loss_avg() = 3\n",
        "    ```\n",
        "    \"\"\"\n",
        "\n",
        "    def __init__( self ):\n",
        "        self.steps = 0\n",
        "        self.total = 0\n",
        "\n",
        "    def update( self, val ):\n",
        "        self.total += val\n",
        "        self.steps += 1\n",
        "\n",
        "    def __call__( self ):\n",
        "        return self.total / float ( self.steps )\n"
      ],
      "execution_count": 0,
      "outputs": []
    },
    {
      "metadata": {
        "id": "OZm7svXZNOkP",
        "colab_type": "text"
      },
      "cell_type": "markdown",
      "source": [
        "## SImple CNN"
      ]
    },
    {
      "metadata": {
        "id": "KntnzTxqNKRX",
        "colab_type": "code",
        "colab": {
          "base_uri": "https://localhost:8080/",
          "height": 153
        },
        "outputId": "3ff08041-81ae-4349-91b3-a793afdc17af"
      },
      "cell_type": "code",
      "source": [
        "class Net(nn.Module):\n",
        "  def __init__(self):\n",
        "    super(Net,self).__init__()\n",
        "    \n",
        "    ## Define NN - 5 hidden layers 1024 hidden units\n",
        "    self.fc1 = nn.Linear(784, 1024)\n",
        "    self.fc2 = nn.Linear(1024, 1024)\n",
        "    self.fc3 = nn.Linear(1024, 1024)\n",
        "    self.fc4 = nn.Linear(1024, 1024)\n",
        "    self.fc5 = nn.Linear(1024, 1024)\n",
        "    self.fc6 = nn.Linear(1024, 10)\n",
        "    \n",
        "  \n",
        "  def forward(self,x):\n",
        "    ## flat input features\n",
        "    x = x.view(-1, self.num_flat_features(x))\n",
        "    x = F.relu(self.fc1(x))\n",
        "    x = F.relu(self.fc2(x))\n",
        "    x = F.relu(self.fc3(x))\n",
        "    x = F.relu(self.fc4(x))\n",
        "    x = F.relu(self.fc5(x))\n",
        "    x = self.fc6(x)\n",
        "    \n",
        "    return F.log_softmax(x, dim=1)  \n",
        "  \n",
        "  def num_flat_features(self,x):\n",
        "    size = x.size()[1:] # all dimensions except the batch dimension\n",
        "    num_features = 1\n",
        "    for s in size:\n",
        "      num_features *=s\n",
        "    return num_features\n",
        "    \n",
        "    \n",
        "model = Net()\n",
        "if is_cuda:\n",
        "    model.cuda()\n",
        "    \n",
        "## 5 hidden layers \n",
        "print(model)"
      ],
      "execution_count": 151,
      "outputs": [
        {
          "output_type": "stream",
          "text": [
            "Net(\n",
            "  (fc1): Linear(in_features=784, out_features=1024, bias=True)\n",
            "  (fc2): Linear(in_features=1024, out_features=1024, bias=True)\n",
            "  (fc3): Linear(in_features=1024, out_features=1024, bias=True)\n",
            "  (fc4): Linear(in_features=1024, out_features=1024, bias=True)\n",
            "  (fc5): Linear(in_features=1024, out_features=1024, bias=True)\n",
            "  (fc6): Linear(in_features=1024, out_features=10, bias=True)\n",
            ")\n"
          ],
          "name": "stdout"
        }
      ]
    },
    {
      "metadata": {
        "id": "qd4ONk1dNSVG",
        "colab_type": "code",
        "colab": {}
      },
      "cell_type": "code",
      "source": [
        "## Adam Optimizer \n",
        "import torch.optim as optim\n",
        "\n",
        "# Loss and optimizer\n",
        "learning_rate = 0.001\n",
        "momemtum = 0.9\n",
        "\n",
        "criterion = nn.CrossEntropyLoss()\n",
        "optimizer = torch.optim.Adam(model.parameters(), lr=learning_rate)\n",
        "\n",
        "## Decay learning rate by a factor of 0.1 every  7 epochs\n",
        "from torch.optim import lr_scheduler\n",
        "\n",
        "exp_lr_scheduler = lr_scheduler.StepLR(optimizer,step_size = 7,gamma = 0.1)\n",
        "logger = TensorBoardLogger(\"./problem1/logs\") \n",
        "\n",
        "num_epochs = 10"
      ],
      "execution_count": 0,
      "outputs": []
    },
    {
      "metadata": {
        "id": "fOh1Q3MINW1m",
        "colab_type": "code",
        "colab": {}
      },
      "cell_type": "code",
      "source": [
        "\n",
        "### Training\n",
        "def train(model, criterion, optimizer):\n",
        "  model.train()\n",
        "  running_loss = []\n",
        "  running_corrects = 0\n",
        "  total_step = len(train_loader)\n",
        "  \n",
        "  loss_avg = RunningAverage ()\n",
        "  train_accuracy = RunningAverage()\n",
        "  \n",
        "  for i, (inputs, labels) in enumerate(train_loader):\n",
        "    if is_cuda:\n",
        "      inputs,labels = inputs.cuda(),labels.cuda()\n",
        "        \n",
        "    inputs, labels = Variable(inputs), Variable(labels)\n",
        "    \n",
        "    # Run the forward pass\n",
        "    outputs = model(inputs)\n",
        "    loss = criterion(outputs, labels)\n",
        "    loss_avg.update(loss.item())\n",
        "    \n",
        "    # Backprop and perform Adam optimisation\n",
        "    optimizer.zero_grad()\n",
        "    loss.backward()\n",
        "    optimizer.step()\n",
        "    # Track the accuracy\n",
        "    _, argmax = torch.max(outputs, 1)\n",
        "    accuracy = (labels == argmax.squeeze()).float().mean()\n",
        "    train_accuracy.update(accuracy)\n",
        "    \n",
        "    ## average accuracy and loss per epoch\n",
        "  return train_accuracy(), loss_avg(), inputs\n",
        "   "
      ],
      "execution_count": 0,
      "outputs": []
    },
    {
      "metadata": {
        "id": "5_RLeTzKNfCN",
        "colab_type": "code",
        "colab": {
          "base_uri": "https://localhost:8080/",
          "height": 102
        },
        "outputId": "5d53cae3-7269-45f3-fa93-67ea5aa48cc4"
      },
      "cell_type": "code",
      "source": [
        "## Build Model \n",
        "train_acc = []\n",
        "train_loss = []\n",
        "\n",
        "model.train()\n",
        "def build_model(model, criterion, optimizer,num_epochs):\n",
        "  for step in range(num_epochs):\n",
        "    \n",
        "    accuracy, loss, images = train(model, criterion, optimizer) \n",
        "    train_acc.append(accuracy)\n",
        "    train_loss.append(loss)\n",
        "    \n",
        "    if (step+1) % 2 == 0:\n",
        "      print ('Step [{}/{}], Loss: {:.4f}, Acc: {:.2f}'.format(step+1, num_epochs, loss, accuracy))\n",
        "\n",
        "      # 1. Log scalar values (scalar summary)\n",
        "      info = { 'loss': loss, 'accuracy': accuracy }\n",
        "\n",
        "      for tag, value in info.items():\n",
        "          logger.scalar_summary(tag, value, step+1)\n",
        "\n",
        "      # 2. Log values and gradients of the parameters (histogram summary)\n",
        "      for tag, value in model.named_parameters():\n",
        "          tag = tag.replace('.', '/')\n",
        "          logger.histo_summary(tag, value.data.cpu().numpy(), step+1)\n",
        "          logger.histo_summary(tag+'/grad', value.grad.data.cpu().numpy(), step+1)\n",
        "\n",
        "      # 3. Log training images (image summary)\n",
        "      info = { 'images': images.view(-1, 28, 28)[:10].cpu().numpy() }\n",
        "\n",
        "      #for tag, images in info.items():\n",
        "       #   logger.image_summary(tag, images, step+1)\n",
        "      \n",
        "     \n",
        "\n",
        "    \n",
        "build_model(model,criterion, optimizer,num_epochs)\n"
      ],
      "execution_count": 154,
      "outputs": [
        {
          "output_type": "stream",
          "text": [
            "Step [2/10], Loss: 0.1180, Acc: 0.97\n",
            "Step [4/10], Loss: 0.0709, Acc: 0.98\n",
            "Step [6/10], Loss: 0.0586, Acc: 0.98\n",
            "Step [8/10], Loss: 0.0360, Acc: 0.99\n",
            "Step [10/10], Loss: 0.0329, Acc: 0.99\n"
          ],
          "name": "stdout"
        }
      ]
    },
    {
      "metadata": {
        "id": "MxIOReiDNlQN",
        "colab_type": "code",
        "colab": {
          "base_uri": "https://localhost:8080/",
          "height": 381
        },
        "outputId": "bc112dd3-ced5-43cb-cb9f-b3c7d963aa0b"
      },
      "cell_type": "code",
      "source": [
        "import numpy as np\n",
        "plt.plot(np.arange(num_epochs), train_acc)\n",
        "plt.plot(np.arange(num_epochs),train_loss)\n",
        "plt.legend([\"accuracy\",\"loss\"])\n",
        "plt.title(\"MNIST Train accuracy\")"
      ],
      "execution_count": 155,
      "outputs": [
        {
          "output_type": "execute_result",
          "data": {
            "text/plain": [
              "Text(0.5, 1.0, 'MNIST Train accuracy')"
            ]
          },
          "metadata": {
            "tags": []
          },
          "execution_count": 155
        },
        {
          "output_type": "display_data",
          "data": {
            "image/png": "[encoded data removed]",
            "text/plain": [
              "<Figure size 576x396 with 1 Axes>"
            ]
          },
          "metadata": {
            "tags": []
          }
        }
      ]
    },
    {
      "metadata": {
        "id": "LDfrR_KnQCOa",
        "colab_type": "text"
      },
      "cell_type": "markdown",
      "source": [
        "## Test Model"
      ]
    },
    {
      "metadata": {
        "id": "IU2KZBYQPF_D",
        "colab_type": "code",
        "colab": {
          "base_uri": "https://localhost:8080/",
          "height": 34
        },
        "outputId": "505c8b64-263e-4cea-b51c-a664444152a8"
      },
      "cell_type": "code",
      "source": [
        "# Test the model\n",
        "# In test phase, we don't need to compute gradients (for memory efficiency)\n",
        "#liveloss_test = PlotLosses()\n",
        "\n",
        "model.eval()\n",
        "with torch.no_grad():\n",
        "    correct = 0\n",
        "    total = 0\n",
        "    batch_correct = 0\n",
        "    test_accuracy = RunningAverage()\n",
        "    for step, (images, labels) in enumerate(test_loader):\n",
        "        batch_correct = 0\n",
        "        images = images.to(device)\n",
        "        labels = labels.to(device)\n",
        "        \n",
        "        outputs = model(images)\n",
        "        values, predicted = torch.max(outputs.data, 1)\n",
        "        total += labels.size(0)\n",
        "        batch_correct += (predicted == labels).sum().item()\n",
        "                \n",
        "        correct+=batch_correct\n",
        "        # 1. Log scalar values (scalar summary)\n",
        "        info = {'accuracy': batch_correct }\n",
        "        \n",
        "        for tag, value in info.items():\n",
        "          logger.scalar_summary(tag, value, step+1)\n",
        "        \n",
        "        # 2. Log test images (image summary)\n",
        "        info = { 'test_predictions_images': images.view(-1, 28, 28)[:1000].cpu().numpy() }\n",
        "        \n",
        "        for tag, images in info.items():\n",
        "          logger.image_summary(tag, images, step+1)\n",
        "          \n",
        "        #liveloss_test.update({\n",
        "        #'test accuracy': (100 * correct / total),\n",
        "        #})\n",
        "        test_accuracy.update(batch_correct/labels.size(0))\n",
        "    #liveloss_test.draw()\n",
        "     \n",
        "    print('Accuracy of the network on the 10000 test images: {} %'.format(100*test_accuracy()))\n",
        "\n",
        "    "
      ],
      "execution_count": 156,
      "outputs": [
        {
          "output_type": "stream",
          "text": [
            "Accuracy of the network on the 10000 test images: 98.00237341772153 %\n"
          ],
          "name": "stdout"
        }
      ]
    },
    {
      "metadata": {
        "id": "pWsXcKUyW5pC",
        "colab_type": "text"
      },
      "cell_type": "markdown",
      "source": [
        "## SVD"
      ]
    },
    {
      "metadata": {
        "id": "j7ocqXwzQENI",
        "colab_type": "code",
        "colab": {}
      },
      "cell_type": "code",
      "source": [
        "svd = lambda weights: torch.svd(weights)\n",
        "get_d_w_matrix = lambda U,S,V,D: torch.mm(U[:,:D], torch.mm(S[:D].diag(), V[:,:D].t()))\n",
        "\n",
        "layer1 = (list(model.fc1.named_parameters()))\n",
        "layer1_Weights = layer1[0][1]\n",
        "\n",
        "layer2 = (list(model.fc2.named_parameters()))\n",
        "layer2_Weights = layer2[0][1]\n",
        "\n",
        "layer3 = (list(model.fc3.named_parameters()))\n",
        "layer3_Weights = layer3[0][1]\n",
        "\n",
        "layer4 = (list(model.fc4.named_parameters()))\n",
        "layer4_Weights = layer4[0][1]\n",
        "\n",
        "\n",
        "layer5 = (list(model.fc5.named_parameters()))\n",
        "layer5_Weights = layer5[0][1]\n",
        "\n",
        "D = [10,20,50,100,200,784]"
      ],
      "execution_count": 0,
      "outputs": []
    },
    {
      "metadata": {
        "id": "KULDdEhkXKiY",
        "colab_type": "code",
        "colab": {}
      },
      "cell_type": "code",
      "source": [
        "layer1_approx = []\n",
        "layer2_approx = []\n",
        "layer3_approx = []\n",
        "layer4_approx = []\n",
        "layer5_approx = []\n",
        "for d in D:\n",
        "  ## Layer 1 - D\n",
        "  U1, S1, V1 = svd(layer1_Weights)\n",
        "  layer1 = get_d_w_matrix(U1, S1, V1,d)\n",
        "  \n",
        "  layer1_approx.append(layer1)\n",
        "  \n",
        "  ## Layer 2 - D\n",
        "  U2, S2, V2 = svd(layer2_Weights)\n",
        "  layer2 = get_d_w_matrix(U2, S2, V2,d)\n",
        "  \n",
        "  layer2_approx.append(layer2)\n",
        "  \n",
        "  ## Layer 3 - D\n",
        "  U3, S3, V3 = svd(layer3_Weights)\n",
        "  layer3 = get_d_w_matrix(U3, S3, V3,d)\n",
        "  \n",
        "  layer3_approx.append(layer3)\n",
        "  \n",
        "  ## Layer 4 - D\n",
        "  U4, S4, V4 = svd(layer4_Weights)\n",
        "  layer4 = get_d_w_matrix(U4, S4, V4,d)\n",
        "  \n",
        "  layer4_approx.append(layer4)\n",
        "  \n",
        "  ## Layer 5 - D\n",
        "  U5, S5, V5 = svd(layer5_Weights)\n",
        "  layer5 = get_d_w_matrix(U5, S5, V5,d)\n",
        "  \n",
        "  layer5_approx.append(layer5)\n",
        "  \n",
        "  \n",
        "  \n",
        "  \n"
      ],
      "execution_count": 0,
      "outputs": []
    },
    {
      "metadata": {
        "id": "OjAg-E9Ogk2C",
        "colab_type": "text"
      },
      "cell_type": "markdown",
      "source": [
        "## Test the Model with new weights"
      ]
    },
    {
      "metadata": {
        "id": "vFKfgiHnaRFi",
        "colab_type": "code",
        "colab": {
          "base_uri": "https://localhost:8080/",
          "height": 119
        },
        "outputId": "0e7b1691-d12a-4427-d3ee-fd6dfed7efee"
      },
      "cell_type": "code",
      "source": [
        "accuracies = []\n",
        "x_values = [10,20,50,100,200,784]\n",
        "\n",
        "for index, d in enumerate(D):\n",
        "  with torch.no_grad():\n",
        "    \n",
        "    # layer 1\n",
        "    w1 = layer1_approx[index]\n",
        "    model.fc1.weight.data = (w1)\n",
        "    \n",
        "    # layer 2\n",
        "    w2 = layer2_approx[index]\n",
        "    model.fc2.weight.data = (w2)\n",
        "    \n",
        "    w3 = layer3_approx[index]\n",
        "    model.fc3.weight.data = (w3)\n",
        "    \n",
        "    w4 = layer4_approx[index]\n",
        "    model.fc4.weight.data = (w4)\n",
        "    \n",
        "    w5 = layer5_approx[index]\n",
        "    model.fc5.weight.data = (w5)\n",
        "    \n",
        "    correct = 0\n",
        "    total = 0\n",
        "    batch_correct = 0\n",
        "    test_accuracy = RunningAverage()\n",
        "    for step, (images, labels) in enumerate(test_loader):\n",
        "      batch_correct = 0\n",
        "      images = images.to(device)\n",
        "      labels = labels.to(device)\n",
        "        \n",
        "      outputs = model(images)\n",
        "      values, predicted = torch.max(outputs.data, 1)\n",
        "      total += labels.size(0)\n",
        "      batch_correct += (predicted == labels).sum().item()\n",
        "      \n",
        "      test_accuracy.update(batch_correct/labels.size(0))\n",
        "      \n",
        "    print('Accuracy of the network on the 10000 test images: {} %'.format(100*test_accuracy()))\n",
        "    accuracies.append(100*test_accuracy())\n",
        "      \n",
        "      \n",
        "      \n",
        "      \n",
        "      \n",
        "    "
      ],
      "execution_count": 191,
      "outputs": [
        {
          "output_type": "stream",
          "text": [
            "Accuracy of the network on the 10000 test images: 75.15822784810126 %\n",
            "Accuracy of the network on the 10000 test images: 95.76740506329115 %\n",
            "Accuracy of the network on the 10000 test images: 97.95292721518987 %\n",
            "Accuracy of the network on the 10000 test images: 97.98259493670885 %\n",
            "Accuracy of the network on the 10000 test images: 98.02215189873418 %\n",
            "Accuracy of the network on the 10000 test images: 97.99248417721519 %\n"
          ],
          "name": "stdout"
        }
      ]
    },
    {
      "metadata": {
        "id": "uyZz03s-hDLZ",
        "colab_type": "code",
        "colab": {
          "base_uri": "https://localhost:8080/",
          "height": 397
        },
        "outputId": "36175f83-f4c5-497d-8a9d-72b53ad0b5de"
      },
      "cell_type": "code",
      "source": [
        "plt.plot(x_values, accuracies,marker='o')\n",
        "plt.xlabel(\"d -values\")\n",
        "plt.ylabel(\"test accuracy\")\n",
        "plt.title(\"model accuracy after compression\")"
      ],
      "execution_count": 193,
      "outputs": [
        {
          "output_type": "execute_result",
          "data": {
            "text/plain": [
              "Text(0.5, 1.0, 'model accuracy after compression')"
            ]
          },
          "metadata": {
            "tags": []
          },
          "execution_count": 193
        },
        {
          "output_type": "display_data",
          "data": {
            "image/png": "[encoded data removed]",
            "text/plain": [
              "<Figure size 576x396 with 1 Axes>"
            ]
          },
          "metadata": {
            "tags": []
          }
        }
      ]
    },
    {
      "metadata": {
        "id": "4L6hpc6hhDm4",
        "colab_type": "code",
        "colab": {}
      },
      "cell_type": "code",
      "source": [
        "fixed_D = 20"
      ],
      "execution_count": 0,
      "outputs": []
    }
  ]
}